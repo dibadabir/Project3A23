{
  "cells": [
    {
      "cell_type": "code",
      "source": [
        "!pip install deepgram-sdk==3.*\n",
        "!pip install dataclasses typing-extensions verboselogs\n",
        "!pip install python-dotenv\n",
        "!pip install num2words\n",
        "!pip install vaderSentiment"
      ],
      "metadata": {
        "id": "tDNAqesZNFB4",
        "colab": {
          "base_uri": "https://localhost:8080/"
        },
        "outputId": "d69a64f0-de74-426b-df8a-539eea042f89"
      },
      "execution_count": null,
      "outputs": [
        {
          "output_type": "stream",
          "name": "stdout",
          "text": [
            "Requirement already satisfied: deepgram-sdk==3.* in /usr/local/lib/python3.10/dist-packages (3.2.7)\n",
            "Requirement already satisfied: httpx>=0.25.2 in /usr/local/lib/python3.10/dist-packages (from deepgram-sdk==3.*) (0.27.0)\n",
            "Requirement already satisfied: websockets>=12.0 in /usr/local/lib/python3.10/dist-packages (from deepgram-sdk==3.*) (12.0)\n",
            "Requirement already satisfied: dataclasses-json>=0.6.3 in /usr/local/lib/python3.10/dist-packages (from deepgram-sdk==3.*) (0.6.4)\n",
            "Requirement already satisfied: typing-extensions>=4.9.0 in /usr/local/lib/python3.10/dist-packages (from deepgram-sdk==3.*) (4.11.0)\n",
            "Requirement already satisfied: aiohttp>=3.9.1 in /usr/local/lib/python3.10/dist-packages (from deepgram-sdk==3.*) (3.9.5)\n",
            "Requirement already satisfied: aiofiles>=23.2.1 in /usr/local/lib/python3.10/dist-packages (from deepgram-sdk==3.*) (23.2.1)\n",
            "Requirement already satisfied: verboselogs>=1.7 in /usr/local/lib/python3.10/dist-packages (from deepgram-sdk==3.*) (1.7)\n",
            "Requirement already satisfied: aiosignal>=1.1.2 in /usr/local/lib/python3.10/dist-packages (from aiohttp>=3.9.1->deepgram-sdk==3.*) (1.3.1)\n",
            "Requirement already satisfied: attrs>=17.3.0 in /usr/local/lib/python3.10/dist-packages (from aiohttp>=3.9.1->deepgram-sdk==3.*) (23.2.0)\n",
            "Requirement already satisfied: frozenlist>=1.1.1 in /usr/local/lib/python3.10/dist-packages (from aiohttp>=3.9.1->deepgram-sdk==3.*) (1.4.1)\n",
            "Requirement already satisfied: multidict<7.0,>=4.5 in /usr/local/lib/python3.10/dist-packages (from aiohttp>=3.9.1->deepgram-sdk==3.*) (6.0.5)\n",
            "Requirement already satisfied: yarl<2.0,>=1.0 in /usr/local/lib/python3.10/dist-packages (from aiohttp>=3.9.1->deepgram-sdk==3.*) (1.9.4)\n",
            "Requirement already satisfied: async-timeout<5.0,>=4.0 in /usr/local/lib/python3.10/dist-packages (from aiohttp>=3.9.1->deepgram-sdk==3.*) (4.0.3)\n",
            "Requirement already satisfied: marshmallow<4.0.0,>=3.18.0 in /usr/local/lib/python3.10/dist-packages (from dataclasses-json>=0.6.3->deepgram-sdk==3.*) (3.21.1)\n",
            "Requirement already satisfied: typing-inspect<1,>=0.4.0 in /usr/local/lib/python3.10/dist-packages (from dataclasses-json>=0.6.3->deepgram-sdk==3.*) (0.9.0)\n",
            "Requirement already satisfied: anyio in /usr/local/lib/python3.10/dist-packages (from httpx>=0.25.2->deepgram-sdk==3.*) (3.7.1)\n",
            "Requirement already satisfied: certifi in /usr/local/lib/python3.10/dist-packages (from httpx>=0.25.2->deepgram-sdk==3.*) (2024.2.2)\n",
            "Requirement already satisfied: httpcore==1.* in /usr/local/lib/python3.10/dist-packages (from httpx>=0.25.2->deepgram-sdk==3.*) (1.0.5)\n",
            "Requirement already satisfied: idna in /usr/local/lib/python3.10/dist-packages (from httpx>=0.25.2->deepgram-sdk==3.*) (3.7)\n",
            "Requirement already satisfied: sniffio in /usr/local/lib/python3.10/dist-packages (from httpx>=0.25.2->deepgram-sdk==3.*) (1.3.1)\n",
            "Requirement already satisfied: h11<0.15,>=0.13 in /usr/local/lib/python3.10/dist-packages (from httpcore==1.*->httpx>=0.25.2->deepgram-sdk==3.*) (0.14.0)\n",
            "Requirement already satisfied: packaging>=17.0 in /usr/local/lib/python3.10/dist-packages (from marshmallow<4.0.0,>=3.18.0->dataclasses-json>=0.6.3->deepgram-sdk==3.*) (24.0)\n",
            "Requirement already satisfied: mypy-extensions>=0.3.0 in /usr/local/lib/python3.10/dist-packages (from typing-inspect<1,>=0.4.0->dataclasses-json>=0.6.3->deepgram-sdk==3.*) (1.0.0)\n",
            "Requirement already satisfied: exceptiongroup in /usr/local/lib/python3.10/dist-packages (from anyio->httpx>=0.25.2->deepgram-sdk==3.*) (1.2.1)\n",
            "Requirement already satisfied: dataclasses in /usr/local/lib/python3.10/dist-packages (0.6)\n",
            "Requirement already satisfied: typing-extensions in /usr/local/lib/python3.10/dist-packages (4.11.0)\n",
            "Requirement already satisfied: verboselogs in /usr/local/lib/python3.10/dist-packages (1.7)\n",
            "Collecting python-dotenv\n",
            "  Using cached python_dotenv-1.0.1-py3-none-any.whl (19 kB)\n",
            "Installing collected packages: python-dotenv\n",
            "Successfully installed python-dotenv-1.0.1\n",
            "Collecting num2words\n",
            "  Using cached num2words-0.5.13-py3-none-any.whl (143 kB)\n",
            "Collecting docopt>=0.6.2 (from num2words)\n",
            "  Using cached docopt-0.6.2.tar.gz (25 kB)\n",
            "  Preparing metadata (setup.py) ... \u001b[?25l\u001b[?25hdone\n",
            "Building wheels for collected packages: docopt\n",
            "  Building wheel for docopt (setup.py) ... \u001b[?25l\u001b[?25hdone\n",
            "  Created wheel for docopt: filename=docopt-0.6.2-py2.py3-none-any.whl size=13706 sha256=3d153150df24f274c4d6f1b0940a61203b2663509f2bdb5c5d90f5adfed2495d\n",
            "  Stored in directory: /root/.cache/pip/wheels/fc/ab/d4/5da2067ac95b36618c629a5f93f809425700506f72c9732fac\n",
            "Successfully built docopt\n",
            "Installing collected packages: docopt, num2words\n",
            "Successfully installed docopt-0.6.2 num2words-0.5.13\n",
            "Collecting vaderSentiment\n",
            "  Downloading vaderSentiment-3.3.2-py2.py3-none-any.whl (125 kB)\n",
            "\u001b[2K     \u001b[90m━━━━━━━━━━━━━━━━━━━━━━━━━━━━━━━━━━━━━━━━\u001b[0m \u001b[32m126.0/126.0 kB\u001b[0m \u001b[31m3.2 MB/s\u001b[0m eta \u001b[36m0:00:00\u001b[0m\n",
            "\u001b[?25hRequirement already satisfied: requests in /usr/local/lib/python3.10/dist-packages (from vaderSentiment) (2.31.0)\n",
            "Requirement already satisfied: charset-normalizer<4,>=2 in /usr/local/lib/python3.10/dist-packages (from requests->vaderSentiment) (3.3.2)\n",
            "Requirement already satisfied: idna<4,>=2.5 in /usr/local/lib/python3.10/dist-packages (from requests->vaderSentiment) (3.7)\n",
            "Requirement already satisfied: urllib3<3,>=1.21.1 in /usr/local/lib/python3.10/dist-packages (from requests->vaderSentiment) (2.0.7)\n",
            "Requirement already satisfied: certifi>=2017.4.17 in /usr/local/lib/python3.10/dist-packages (from requests->vaderSentiment) (2024.2.2)\n",
            "Installing collected packages: vaderSentiment\n",
            "Successfully installed vaderSentiment-3.3.2\n"
          ]
        }
      ]
    },
    {
      "cell_type": "code",
      "source": [
        "# Copyright 2023-2024 Deepgram SDK contributors. All Rights Reserved.\n",
        "# Use of this source code is governed by a MIT license that can be found in the LICENSE file.\n",
        "# SPDX-License-Identifier: MIT\n",
        "\n",
        "\n",
        "import os\n",
        "import httpx\n",
        "import json\n",
        "import re\n",
        "import logging, verboselogs\n",
        "import pandas as pd\n",
        "import nltk\n",
        "from dotenv import load_dotenv\n",
        "from datetime import datetime\n",
        "from num2words import num2words\n",
        "from nltk.tokenize import sent_tokenize\n",
        "from nltk.stem import WordNetLemmatizer\n",
        "from nltk.sentiment.vader import SentimentIntensityAnalyzer\n",
        "from nltk.corpus import stopwords\n",
        "from nltk.stem import SnowballStemmer\n",
        "from nltk.tokenize import word_tokenize\n",
        "from vaderSentiment.vaderSentiment import SentimentIntensityAnalyzer\n",
        "from deepgram import (\n",
        "    DeepgramClient,\n",
        "    DeepgramClientOptions,\n",
        "    PrerecordedOptions,\n",
        "    FileSource,\n",
        "    )\n",
        "\n",
        "\n",
        "# The list of common words such as \"a\", \"an\", etc.\n",
        "nltk.download('stopwords')\n",
        "# Download a collection of popular resources from the NLTK library\n",
        "nltk.download('popular', quiet=True)\n",
        "# Sentence tokenization (Splitting a text into individual senteces)\n",
        "nltk.download('punkt')\n",
        "# English vocabulary database\n",
        "nltk.download('wordnet')\n",
        "# Used for training language models or evaluating nlp algothms\n",
        "nltk.download('brown')\n",
        "# Used for performing sentiment analysis on text\n",
        "nltk.download('vader_lexicon')\n",
        "\n",
        "\n",
        "lemmatizer = WordNetLemmatizer()\n",
        "analyzer = SentimentIntensityAnalyzer()\n",
        "stemmer = SnowballStemmer(\"english\")\n",
        "stop_words = stopwords.words(\"english\")\n",
        "\n",
        "\n",
        "load_dotenv()\n",
        "\n"
      ],
      "metadata": {
        "id": "mlQVesiDOeAf",
        "colab": {
          "base_uri": "https://localhost:8080/"
        },
        "outputId": "e99de1e8-6b5f-4308-ab5e-2d3bf4b382b3"
      },
      "execution_count": null,
      "outputs": [
        {
          "output_type": "stream",
          "name": "stderr",
          "text": [
            "[nltk_data] Downloading package stopwords to /root/nltk_data...\n",
            "[nltk_data]   Unzipping corpora/stopwords.zip.\n",
            "[nltk_data] Downloading package punkt to /root/nltk_data...\n",
            "[nltk_data]   Package punkt is already up-to-date!\n",
            "[nltk_data] Downloading package wordnet to /root/nltk_data...\n",
            "[nltk_data]   Package wordnet is already up-to-date!\n",
            "[nltk_data] Downloading package brown to /root/nltk_data...\n",
            "[nltk_data]   Unzipping corpora/brown.zip.\n",
            "[nltk_data] Downloading package vader_lexicon to /root/nltk_data...\n"
          ]
        },
        {
          "output_type": "execute_result",
          "data": {
            "text/plain": [
              "False"
            ]
          },
          "metadata": {},
          "execution_count": 2
        }
      ]
    },
    {
      "cell_type": "code",
      "source": [
        "def extract_transcript(AUDIO_FILE):\n",
        "    try:\n",
        "        # STEP 1 Create a Deepgram client using the API key in the environment variables\n",
        "        config: DeepgramClientOptions = DeepgramClientOptions(\n",
        "            verbose=logging.SPAM,\n",
        "        )\n",
        "        deepgram: DeepgramClient = DeepgramClient(\"03feccffc4af0aac76e14882c4b7e5b08b509b92\", config)\n",
        "        # OR use defaults\n",
        "        # deepgram: DeepgramClient = DeepgramClient()\n",
        "\n",
        "        # STEP 2 Call the transcribe_file method on the prerecorded class\n",
        "        with open(AUDIO_FILE, \"rb\") as file:\n",
        "            buffer_data = file.read()\n",
        "\n",
        "        payload: FileSource = {\n",
        "            \"buffer\": buffer_data,\n",
        "        }\n",
        "\n",
        "        options: PrerecordedOptions = PrerecordedOptions(\n",
        "            model=\"nova\",\n",
        "            smart_format=True,\n",
        "            utterances=True,\n",
        "            punctuate=True,\n",
        "            diarize=False,\n",
        "            numerals=False,\n",
        "        )\n",
        "\n",
        "        before = datetime.now()\n",
        "        response = deepgram.listen.prerecorded.v(\"1\").transcribe_file(\n",
        "            payload, options, timeout=httpx.Timeout(300.0, connect=10.0)\n",
        "        )\n",
        "        after = datetime.now()\n",
        "\n",
        "        print(response.to_json(indent=4))\n",
        "        audio_dir = os.path.dirname(AUDIO_FILE)\n",
        "\n",
        "        # Construct the path for the JSON file in the same directory as the audio file\n",
        "        json_filename = os.path.join(audio_dir, f\"{AUDIO_FILE}.json\")\n",
        "\n",
        "        # Write the JSON data to the file in the same directory as the audio file\n",
        "        with open(json_filename, \"w\") as json_file:\n",
        "            json_file.write(response.to_json(indent=4))\n",
        "\n",
        "        print(f\"Transcript JSON file '{json_filename}' created successfully.\")\n",
        "        return json_filename\n",
        "\n",
        "    except Exception as e:\n",
        "        print(f\"Exception: {e}\")"
      ],
      "metadata": {
        "id": "xYrdiunX7yuJ"
      },
      "execution_count": null,
      "outputs": []
    },
    {
      "cell_type": "code",
      "source": [
        "# Extracting the transcript from the json file\n",
        "# and saving it into a list\n",
        "def json_to_list(transcription_file):\n",
        "  sentences = []\n",
        "  with open(transcription_file, \"r\") as file:\n",
        "        data = json.load(file)\n",
        "        result = data['results']['channels'][0]['alternatives'][0]['transcript']\n",
        "        result = result.split('.')\n",
        "        for sentence in result:\n",
        "          sentences.append(sentence)\n",
        "        return sentences\n"
      ],
      "metadata": {
        "id": "PMhuo5NKI891"
      },
      "execution_count": null,
      "outputs": []
    },
    {
      "cell_type": "code",
      "source": [
        "def clean(list):\n",
        "  cleaned = []\n",
        "  for i in list:\n",
        "    sentence = sent_tokenize(i)\n",
        "    for item in sentence:\n",
        "      # Convert to lowercase\n",
        "      text_lowercase = item.lower()\n",
        "      # Remove punctuation\n",
        "      text_without_punctuation = re.sub(r\"[^\\w\\s]\", \"\", text_lowercase)\n",
        "      # Remove stopwords and stem words\n",
        "      tokens = word_tokenize(text_without_punctuation)\n",
        "      new_tokens = []\n",
        "      for word in tokens:\n",
        "        if word.isnumeric():\n",
        "          word = num2words(word)\n",
        "          new_tokens.append(lemmatizer.lemmatize(word))\n",
        "          continue\n",
        "        elif word not in stop_words:\n",
        "          new_tokens.append(lemmatizer.lemmatize(word))\n",
        "          continue\n",
        "      # Join tokens back into a string\n",
        "      cleaned_text = \" \".join(new_tokens)\n",
        "      cleaned.append(cleaned_text)\n",
        "  return cleaned"
      ],
      "metadata": {
        "id": "qZOY1b6v2vte"
      },
      "execution_count": null,
      "outputs": []
    },
    {
      "cell_type": "code",
      "source": [
        "# Use Vader library to get the polarity of the sentence\n",
        "# Sentences with polarity more than zero are positive, whilst sentences with polarity less than zero are negative\n",
        "# Sentences with zero polarity are neutral\n",
        "\n",
        "def getPolarity(text):\n",
        "    polarity = SentimentIntensityAnalyzer().polarity_scores(text)\n",
        "    if polarity['compound'] > 0:\n",
        "      sentiment = 'postive'\n",
        "    elif polarity['compound'] < 0:\n",
        "      sentiment = 'negative'\n",
        "    else:\n",
        "      sentiment = 'neutral'\n",
        "    return sentiment,polarity"
      ],
      "metadata": {
        "id": "wZ6uzbAj-eOe"
      },
      "execution_count": null,
      "outputs": []
    },
    {
      "cell_type": "code",
      "source": [
        "# https://www.youtube.com/watch?v=uvqDTbusdUU\n",
        "\n",
        "audio_file1 = \"/content/Artificial_intelligence_in_healthcare_opportunities_and_uvqDTbusdUU.mp3\"\n",
        "\n",
        "json_transcript1 = extract_transcript(audio_file1)\n",
        "\n",
        "pod1 = json_to_list(json_transcript1)\n",
        "\n",
        "cleaned1 = clean(pod1)\n",
        "\n",
        "cleaned1"
      ],
      "metadata": {
        "id": "csopQojNzqYT"
      },
      "execution_count": null,
      "outputs": []
    },
    {
      "cell_type": "code",
      "source": [
        "# https://www.youtube.com/watch?v=0xSSonMIqBk\n",
        "\n",
        "audio_file2 = \"/content/How_AI_can_make_health_care_better_0xSSonMIqBk_139.m4a\"\n",
        "\n",
        "json_transcript2 = extract_transcript(audio_file2)\n",
        "\n",
        "pod2 = json_to_list(json_transcript2)\n",
        "\n",
        "cleaned2 = clean(pod2)\n",
        "\n",
        "cleaned2"
      ],
      "metadata": {
        "id": "RbdH9BQZkgFl"
      },
      "execution_count": null,
      "outputs": []
    },
    {
      "cell_type": "code",
      "source": [
        "# https://www.youtube.com/watch?v=H3MeGvtiwKc\n",
        "\n",
        "audio_file3 = \"/content/AI_in_Healthcare_Miracles_You_Won_t_Believe__H3MeGvtiwKc_140.m4a\"\n",
        "\n",
        "json_transcript3 = extract_transcript(audio_file3)\n",
        "\n",
        "pod3 = json_to_list(json_transcript3)\n",
        "\n",
        "cleaned3 = clean(pod3)\n",
        "\n",
        "cleaned3"
      ],
      "metadata": {
        "id": "_2rFsfXcmpci"
      },
      "execution_count": null,
      "outputs": []
    },
    {
      "cell_type": "code",
      "source": [
        "# https://www.youtube.com/watch?v=p92P5x-WfQg\n",
        "\n",
        "audio_file4 = \"/content/The_Truth_About_AI_and_the_Healthcare_Industry_ft_Cold_p92P5x_WfQg.m4a\"\n",
        "\n",
        "json_transcript4 = extract_transcript(audio_file4)\n",
        "\n",
        "pod4 = json_to_list(json_transcript4)\n",
        "\n",
        "cleaned4 = clean(pod4)\n",
        "\n",
        "cleaned4"
      ],
      "metadata": {
        "id": "aX_qgwDjoE-Y"
      },
      "execution_count": null,
      "outputs": []
    },
    {
      "cell_type": "code",
      "source": [
        "# https://www.youtube.com/watch?v=v_336X798aU\n",
        "\n",
        "audio_file5 = \"/content/10_Benefits_of_Artificial_intelligence_in_Healthcare_v_336X798aU.m4a\"\n",
        "\n",
        "json_transcript5 = extract_transcript(audio_file5)\n",
        "\n",
        "pod5 = json_to_list(json_transcript5)\n",
        "\n",
        "cleaned5 = clean(pod5)\n",
        "\n",
        "cleaned5"
      ],
      "metadata": {
        "id": "gol6M9p7pdEf"
      },
      "execution_count": null,
      "outputs": []
    },
    {
      "cell_type": "code",
      "source": [
        "# after adding all the podcasts\n",
        "\n",
        "result = []\n",
        "\n",
        "result.extend(cleaned1 + cleaned2 + cleaned3 + cleaned4 + cleaned5)\n",
        "\n",
        "print (result)\n"
      ],
      "metadata": {
        "id": "W3YzUOj03f9V",
        "colab": {
          "base_uri": "https://localhost:8080/"
        },
        "outputId": "e340fd37-a1d5-48b8-f460-66a3a8786fe8"
      },
      "execution_count": null,
      "outputs": [
        {
          "output_type": "stream",
          "name": "stdout",
          "text": [
            "['artificial intelligence often depicted villain robot ready take world im tell ai actually save life improve health care million patient around world', 'ai helping u personalize delivery care make hospital efficient improve access health care providing accurate decision making tool', 'ai process educating computer model using complex large data set', 'model learns data training process build ability make decision predict outcome presented new data', 'talking access computer model know based experience thousand patient whether treatment likely work work best patient based individual condition', 'two room fact anywhere world alike', 'ai model helping doctor learn patient similar condition even similar genetic information', 'make highly informed decision diagnosis treatment option', 'want talk starting use ai delivering care cancer patient', 'cancer diagnosis immensely complicated doctor making decision diagnosing primary secondary cancer well patient understanding risk success rate treatment option', 'developing ai model help u streamline process taking information number source', 'involves feeding ai model data patient blood test xray image suspected lesion well generating information tissue biopsy', 'train ar model rapidly consolidate information provide highly accurate prediction patient diagnosis treatment option likely succeed well prognosis', 'let talk peter cancer patient he gone comprehensive clinical assessment imaging various diagnostic workups', 'even best doctor town tell cancer primary site', 'meaning cant get treatment specific cancer chance surviving another five year le ten', 'team right brisbane developed tool using ai patient genetic information accurately identify cancer primary side peter empower doctor give peter treatment know going work', 'type model expanded exponentially predict accurate health care', 'mean using ai model understand whether certain population susceptible certain disease whether would respond favorably certain health care intervention', 'ai giving u stability much refined detailed understanding human health weve ever', 'catch immense promise ai implemented routine clinical practice', 'existing regulation framework arent designed ai software intended diagnosing treating managing disease also known ai based software medical device', 'designed physical medical device like surgical implant software output every time patient clinician using', 'traditional software aesthetic', 'sense developer release version software matter many time use would always output data', 'hand ai software behave completely differently software health care intrinsic ability learn evolve time ideally becoming intelligent suited environment theyre used', 'existing regulation framework rely static reproducible nature software prove safe implemented routine clinical practice', 'regulatory authority solution lock learning potential algorithm implemented clinical practice', 'mean model longer learn environment new data limit potential improve functionality accuracy know whole point ai', 'time even harmful patient ai model longer trained date data potentially lead wrong diagnosis', 'good news emerging regulation framework proposed implemented right game changer', 'regulatory authority proposing using transparent reporting mechanism developer disclose model would learn evolve time combined ongoing real time monitoring make sure predict change actually occur software adaptive make much accurate prediction improve health care outcome', 'also need make sure training data used algorithm representative entire human population', 'let look mobile based diagnostics software developing right brisbane us ai detect skin cancer image youve taken iphone', 'model trained predominantly caucasian population well think would african american asian patient', 'ai developer huge responsibility make sure data bias doesnt exist model trained diverse robust data set representative entire population', 'know white male', 'time understand entirely possible', 'skin cancer fact disproportionately affect caucasian population genetic difference', 'result much larger datasets available patient', 'mean need build functionality ai model low confidence result asian patient example model capable saying dont know best guess based sku training population', 'unfortunately functionality doesnt exist yet urgently needed mandated regulator', 'successfully implement ai health care need establish new regulatory framework consultation ai developer health care practitioner policy advisor well patient bring best ai', 'improved regulatory framework make sure diverse robust tool developed compliant adaptive serve whole population equally', 'get right transform delivery health care promoting personalized health wellbeing advice', 'im excited forefront translating amazing technology health care use help million life around world', 'world facing big medical problem', 'growing number patient enough doctor treat', 'could artificial intelligence cure', 'feel like im working forefront something could potentially revolutionary health care future', 'ai power transform way patient diagnosed treat think become game changer', 'make testing new medical procedure efficient effective get device developed faster better quicker huge benefit', 'elaine mana blind one eye', 'victim age related macular degeneration common cause blindness uk u', 'went eye terrified', 'bit', 'weeping rain thinking dont want', 'year threat losing eye loomed large successful treatment enabled thankful seventy five year old see way high wire fundraising', 'high sit wire europe', 'sky dive wing rule', 'doctor saved elaines eye say one lucky one', 'nearly ten percent clinic appointment nh eye', 'thats nearly ten million appointment per year', 'put brutally almost drowning number patient need see', 'result patient unfortunately go blind delay seen treated pregnant mother left almost completely blind waiting care', 'since given birth never seen daughter face', 'doctor keen belief there answer', 'artificial intelligence', 'partner developed ai diagnose fifty type eye disease', 'well doctor much much quickly', 'ai system analyze retinal scan within second delineate different disease feature scan', 'human expert would probably take hour even day complete task', 'ai help address growing global challenge', 'two thousand and twenty estimated five hundred and ninety-six million people distance vision impairment worldwide forty-three million blind two thousand and fifty figure set increase approximately fifty', 'task take specialist doctor hour done second artificial intelligence', 'eyesight', 'ai ability mine analyze patient data far quickly human mean diagnosis could improve many area medicine', 'one thousand scan per day hospital', 'challenge get human expert able review scan also opportunity huge amount data perfect substrate development artificial intelligence system', 'concern', 'particular threat privacy patient', 'deepmind google ai company one doctor kims partner found fire', 'google deepmind search giant artificial pledge arm may received personally identifying medical record one million, six hundred thousand nh patient royal field hospital legally inappropriate basis', 'unrelated work doctor kim deep mind currently facing legal use nh data', 'yet data better protected ai capacity make patient care much better efficient', 'world essentially much connected yet health care data siloed', 'order taxi almost anywhere world using smartphones yet patient come eye hospital like morfields theyre also attending hospital theyve got cancer often cant easily connect data', 'doctor keene hope latest collaboration machine learning startup bit found could join data dot better also improve patient privacy', 'bit found kind switchboard', 'essentially pas message someone want ask something data set owner data', 'data never never leaf home location', 'data held hospital data ever leaf hospital', 'bitfound say technology could benefit like approving new treatment quickly safely', 'patient losing lot fact ideal medical treatment coming market', 'extra technical guarantee privacy preserving technique like found provide there real feeling around health care ecosystem could speed lot governance process', 'two thousand and twenty-seven ai value health care market expected eight time bigger two thousand and twenty growth could also boosted clinician reduce dependence coder start develop ai system', 'really exciting date retinal expert unable identify gender', 'doctor kira oberne part team clinician managed google brain two thousand and eighteen develop ai recognize gender retinal scam something human member research group developed code free deep learning model accurately identified gender raffle image', 'incredibly exciting positioning clinician develop model independently could really open door discovery disease pattern disease biomarkers', 'new generation doctor believe empowering clinician way bring closer patient', 'generally clinician health care worker working face face patient understand patient need best', 'therefore believe allow independently develop tool allow patient remain forefront everything', 'world first handheld battery powered computer', 'able hold thousand data point', 'think potentially tipping point', 'little bit like tipping point saw late 1970s muting industry', 'introduction first personal computer', 'empower people technology even primitive beginning come one hundred even one thousand application engineer would never thought', 'skeptical pinning hope fast ai', 'issue ai model essentially black box happens theyre working well theyre working well question asked', 'happens wrong decision made', 'happens something wrong really trace back ensure accountability guarantee interpretability using black box model', 'early day ai medicine could also improve testing new medical device', 'long time ago one million year bc', 'everything absolutely free', 'two thousand and twenty-one former part time singer model patricia walker artificial valve inserted heart save life', 'needed new valve', 'one wasnt working dripping', 'feeling pain getting exhaustion getting worse', 'although patricias operation success without risk cardiologist', 'ai currently transforming health care industry way might imagined', 'improved disease diagnose personalize treatment ai helping solve global health challenge', 'research confirms market ai health care expected reach forty-five billion, two hundred million two thousand and twenty-six', 'beginning', 'video uncover ai already used health care industry future hold revolutionary technology', 'let start', 'number one early disease prediction', 'health care early detection disease crucial effective treatment improved patient outcome', 'thanks advancement artificial intelligence ai digitalization healthcare system professional harness power ai analyze vast amount data swiftly accurately', 'technological integration revolutionized disease detection particularly case like cancer', 'employing sophisticated ai algorithm healthcare provider sift immense datasets uncover subtle pattern indicator disease', 'enables identify condition like cancer nascent stage long symptom manifest visibly', 'early detection capability paramount', 'allows timely intervention treatment plan potentially saving countless life', 'take mammogram instance', 'historically screening associated high rate false positive leading unnecessary anxiety medical procedure patient', 'however integration ai accuracy mammogram interpretation skyrocketed impressive ninety-nine', 'processing time reduced factor thirty', 'minimizes occurrence false alarm also streamlines diagnostic process ensuring individual receive appropriate care time', 'number two medical diagnosis imaging', 'recent statistic indicate significant portion medical provider approximately thirty-eight rely medical software integral component treatment protocol', 'moreover overwhelming ninety health care data originate various imaging technology proving significance medical practice', 'artificial intelligence ai emerges game changer domain', 'augmenting traditional diagnostic method advanced capability', 'integration ai medical imaging software give birth new era enhanced efficiency accuracy diagnostics', 'leveraging ai algorithm diagnostic test transform becoming automated precise expedient', 'reduces wait time patient also minimizes likelihood human error thereby enhancing overall diagnostic accuracy', 'ai impact medical diagnosis extends across various application', 'ai powered chatbots serve virtual medical assistance adapt engaging patient comprehending symptom recommending optimal course action', 'facial recognition software represents another innovative application facilitating identification rare disease detection distinctive facial feature', 'also deep learning algorithm analyze vast amount oncology data identify pattern detect cancerous tissue accurately traditional method', 'allows proceed diagnosis improve patient outcome', 'additionally inner guy ai algorithm manual microscopic observation pathologist accelerate diagnosis process', 'number three robotic assistance surgery', 'utilising robotics system surgeon perform complex procedure unprecedented precision accuracy leading better outcome patient', 'robotic system equipped advanced imaging capability allowing surgeon visualize surgical site high definition real time', 'enhanced visualization enables navigate delicate tissue structure greater accuracy reducing risk damage surrounding healthy tissue', 'addition robotic assistance reduce complex nature surgery leading smaller incision reduced trauma faster healing', 'patient also experience le blood loss lower rate complication robotic assisted surgery traditional open surgery', 'beyond operating room benefit robotic assistance ai extend various aspect health care delivery', 'technology facilitate remote consultation telemedicine telesurgery enabling patient access specialized care regardless geographic location', 'also support development personalized treatment plan predictive analytics', 'helping health care provider anticipate prevent adverse event', 'number four ai biotech', 'use ai machine learning biotechnology transforming medication development evidenced morgan stanley forecast fifty one billion industry development multiple new drug next decade', 'move potential transform life doctor patient suffering difficult condition', 'impact evident various way significantly boosting success rate early stage drug development offering cost saving payors earlier detection treatment high risk patient', 'ai driven drug development progress long standing challenge traditional research development promising increased success rate cost effective discovery method', 'example pfizer prominent covid nineteen vaccine developer utilizes ibm machine learning platform expedite optimize drug discovery process', 'number five personalized health care service', 'numerous institution brink integrating health care software developer system embrace personalized health care intervention', 'leveraging extensive health care data allows profound insight facilitate tailored treatment plan individual', 'production wearable technology wrist band sensurized insole like foot innovative like levi google jacquired smart jacket contributes generation additional data stream', 'wearable empower user furnishing cation personalized diet regimen exercise routine generated offering user actionable insight optimize health wellness journey', 'consider scenario person let call sarah wear smart wristband monitor heart rate sleep pattern physical activity', 'additionally sarah utilizes sensurised insole daily run capture data gate foot pressure distribution', 'combining information dietary intake tracked via mobile app ai driven healthcare platform analyzes sarah data holistically based unique physiological response lifestyle choice', 'platform generates personalized recommendation', 'may include tailored exercise routine dietary adjustment sleep optimization strategy ensuring sarah receives optimized health care solution tailored individual need preference', 'number six administrative application', 'artificial intelligence revolutionizing various administrative aspect health care', 'implementing ai task data entry claim processing appointment scheduling automated', 'automation allows healthcare provider organization allocate time toward patient care revenue cycle management', 'additionally ai potential minimize human error offering faster method examine health record medical imaging claim processing test result', 'granting medical professional autonomy workflow ai enhances quality patient care maintaining budget efficiency', 'ability ai analyze patient medical history deliver swift improved outcome reshaping health care provision enabling practitioner dedicate resource time', 'patient', 'ai spearheading advancement patient care medical professional confidently focus delivering quality care also saving time money ai powered administrative task', 'automation monotonous administrative responsibility artificial intelligence potential assist medical practitioner saving time money well granting greater control workflow procedure', 'looking ahead advancement artificial intelligence healthcare field opened new opportunity enhancing medical process', 'ai powered tool smart algorithm interpret extensive datasets come play possibility applying health care boundless', 'deep learning ai potential help disease detection create customized treatment strategy even automate task like drug exploration diagnosis', 'ai also offer hope elevating page result enhancing safety diminishing health care expense', 'undoubtedly potential innovation health care using artificial intelligence promising', 'progress connected digital era integration ai health care sector revolutionize way doctor provide treatment care patient', 'immense possibility becomes apparent utilization artificial intelligence health care bring forth advancement enhance health outcome ultimately improve overall patient experience', 'important note ai health care face significant obstacle go beyond question whether technology posse enough capability beneficial', 'instead real challenge lie guaranteeing integration everyday clinical practice', 'time health care practitioner might move towards duty demand distinct human ability utmost level cognitive function', 'provider fail fully benefit ai health care may reject idea collaborating alongside', 'made far let u know think comment section', 'interesting topic make sure watch recommended video see screen right', 'thanks watching', 'hi', 'name tagogo alltrade following collaboration youtube channel called fusion abc', 'artificial intelligence become transformative force across various industry', 'generative system like chatgpt mid journey taking world storm there unsettled feeling pace advancement potential use abuse there another side ai', 'side benefit u', 'ai healthcare one area', 'imagine second ai system interpret brain signal order make paralyzed man stand walk', 'another ai system also interpret brain wave time interprets brain signal english language', 'sound like science fiction right ai field medical field merge yield powerful result', 'integration ai health care potential revolutionize way diagnose treat manage patient improved diagnostics personalized medicine drug discovery efficient hospital management future potential series well take look could mean future health care well drawback', 'let take look', 'ai powered tool aid diagnostic process making faster accurate', 'core machine learning algorithm analyze fast amount data make sense data recognize pattern form prediction', 'medical field data medical image genetic information biomarkers', 'cool thing see pattern human might miss', 'example ai shown remarkable success diagnosing skin cancer image detecting early stage lung cancer ct scan improved diagnostics lead earlier treatment better patient outcome', 'ai also potential make healthcare personalized tailoring treatment plan individual', 'done factoring unique genetic environmental lifestyle factor', 'analyzing huge amount patient data ai identify correlation specific gene mutation disease outcome', 'could lead new specific gene targeted therapy', 'recent study published doctor skelikov doctor charles vendetti national human genome research institute america', 'found ai algorithm given genetic data became great distinguishing mild severe case propionic acidemia something virtually impossible', 'reason there enough research', 'disease affect one hundred and twenty thousand people worldwide', 'doctor van ditti explains', 'quote use machine learning make kind useful prediction rare disease even little data would make boon common condition like cancer hypertension diabetes', 'personalized approach could lead effective treatment fewer side effect ultimately improving patient care reducing health care cost', 'developing new drug costly time consuming process ai accelerate', 'analyzing vast amount data ai identify potential drug candidate efficiently', 'local csiro developed software provides data cell aid drug discovery biological research', 'university sydney teamed pharos therapeutic using artificial intelligence boost search cancer treatment together want set state art drug discovery infrastructure', 'ai algorithm predict interaction drug target', 'allows researcher identify promising compound reduces trial error', 'course ultimately shortens time take new drug hit market', 'ultimately benefiting patient need new novel treatment', 'broadly speaking ai also utilized optimize hospital management patient care analyzing data patient flow bed occupancy staff schedule', 'ai help hospital allocate resource efficiently ultimately reducing wait time improving patient satisfaction', 'hospital around world numerous effort going', 'there even open source model created micro soft new analytics', 'additionally ai used predict patient outcome', 'allows doctor make informed decision patient care discharge determine patient require intensive monitoring', 'said ai isnt perfect', 'still hurdle need overcome', 'one large amount patient data ai system raise concern regarding data security course privacy', 'often rely network thats vulnerability', 'though view think stand alone intra network even offline ai system around corner theyll powerful enough get job done', 'secondly ai still need human supervision', 'know technology starting going make mistake dire consequence medical industry', 'lastly considering treatment specific patient might consider illness', 'sometimes societal economic social patient history factor come play', 'information may hard access ai', 'order ai capture information perhaps new data entry may needed', 'let finish couple interesting story', 'google australia partnered australian leader hearing including cochlear macquarie university hearing national acoustic laboratory next sense shepard center come together google explore new application ai machine learning hearing solution', 'goal enhance hearing technology provide personalized health care one billion, five hundred million people globally hearing loss', 'first project focus personalizing hearing model better address individual listening need explore new application ai prioritize sound filter background noise', 'abroad research university texas developed groundbreaking brain decoder system us ai decode person brain activity thought continuous understandable stream text', 'pretty wild', 'give little taste future meet forty year old gert jan oskam', 'told would never walk breaking neck traffic accident ten year ago', 'thanks ai acting bridge brain muscle stand climb stair walked', 'express feeling', 'quote month ago able first time ten year stand beer friend', 'pretty cool', 'think kind progress get behind', 'conclusion see ai powerful tool healthcare industry', 'drawback promise', 'two thousand and twenty australian government pledged nineteen million transformative medical research project', 'good start imagined progress come private sector', 'startup would simple effective idea', 'example pearly manages oral health us artificial intelligence scan photo teeth check dental issue tooth decay gensivitis others', 'little thing like make excited ai health care future know well see', 'anyway thats end video today', 'thanks watching', 'want see next episode series find description', 'benefit artificial intelligence health care', 'history word disease go back 16th century', 'disease since beginning life health care develop match speed disease get aggressive', 'talk ai helping u field health', 'welcome medilab zone', 'let tell benefit artificial intelligence health care', 'numerous potential application artificial intelligence discipline medicine health care thanks development analytical computing technique explosion data health care organization', 'let start list', 'ai help number one surgery', 'ai helped achieving great success robotic surgery', 'robot delicate surgery advancement electronic technology', 'robot still operated surgeon perform micro dissection access tiny area human hand would find impossible', 'robotic arm capable performing intricate procedure brain heart absolute accuracy', 'demonstrated lessen complication danger blood loss', 'data robotic procedure easily stored digital medium help surgeon education training', 'number two medical imaging', 'ai solution used medical imaging support labor intensive image scanning case triage surfacing valid insight help radiologist identify critical case first make accurate diagnosis possibly avoid error utilizing breadth complexity electronic health record large data set hundred photo produced conventional clinical trial creating huge volume data need reviewed', 'study entire healthcare sector examined pattern hidden link using ai algorithm speed process finding important information imaging specialist', 'number three diagnosis treatment', 'past fifty year disease diagnosis treatment center artificial intelligence health care', 'even early rule based system could effectively diagnose treat disease', 'clinical practice fully embrace', 'werent noticeably accurate diagnosing human', 'interaction physician workflow health record system wasnt great', 'however whether rule based integrated clinical practice diagnostic purpose making treatment plan', 'medical saw supplier offer large number independent ai health care capability diagnosis treatment focused single discipline medicine', 'number four accelerated drug development', 'conventional method producing medication frequently unreasonably expensive time consuming', 'present significant obstacle never say next pandemic would hit u', 'usually treatment typically tested clinical setting two billion, six hundred million ten drug subsequently sold', 'two thousand and seven robot called adam could combine one billion data point investigating diverse role yeast identify nineteen gene make yeast forecast nine new precise idea', 'eve another robot discovered triclosin substance frequently present toothpaste efficient parasite related malaria via study', 'discovery make manufacturing medication fast', 'also cost fraction past cost proving ai sustain expanding significance area medicine', 'number five expanding access healthcare underserved region', 'lack qualified medical professional radiologist ultrasound technologist severely restrict access lifesaving care underdeveloped country world', 'ai help taking diagnostic task traditionally assigned human', 'combine medical imaging like', 'example ai imaging technology may frequently achieve level accuracy equivalent people screening chest x ray indication tuberculosis', 'skilled diagnostic radiologist wouldnt necessarily need present capability could implemented app made available health care professional underdeveloped region', 'way ai beat medical professional shortage rural area', 'number six clinical decision making', 'time resource required ass diagnose patient decreased using artificial intelligence health care activity', 'allows medical professional respond quickly save life', 'algorithm use machine learning identify danger much accurately quickly traditional procedure', 'implemented properly algorithm speed diagnosis reduce diagnostic error', 'also ai enabled technology assemble sort vast amount clinical data give doctor comprehensive picture state patient population health', 'help technology care team may obtain timely nearly timely information used improve patient outcome', 'number seven data collection administrative task', 'might know two third doctor time spent paperwork additional two hour also spent documentation every hour spent patient', 'huge waste time', 'solved ai reduce stress data collecting free time doctor employee focus activity', 'go administrative task', 'ai potent administrative worker', 'use prior authorization clinical recording revenue management medical record management schedule optimization billing claim processing', 'ai identify patient health plan medical benefit service go benefit require authorization', 'ai also assist gathering paperwork patient history data medical approval', 'number eight getting real time data', 'need reliable data time identify problem solve soon possible using effective way', 'ai help doctor medical professional make critical therapeutic decision quickly effectively using real time precise data', 'producing quick realistic result reduce patient wait time improve preventative action reduce cost', 'real time analytics support stronger physician patient relationship', 'important health information made available via mobile device patient involved treatment', 'cell phone notification doctor nurse informed life threatening change patient status emergency', 'process become easy almost people access gadget sensor gather important information health', 'growing amount health related data produced go wearable monitor heartbeat constantly cell phone step tracker data gathered analyzed supplemented patient provided data apps home monitoring device', 'provide distinctive view individual population health', 'however might necessary put little extra effort assist patient feel comfortable sharing data close ongoing monitoring', 'number nine providing virtual nursing assistance', 'eighty nine percent u people also google symptom self diagnose problem seeing doctor', 'diagnosis correct useless act prevented using virtual nursing assistance', 'keep track patient health metric prescription usage lifestyle choice using ai health care analytics stop progression chronic illness make necessary visit', 'track patient weight blood pressure parameter produced monitoring device represented avatar offer remote support common medical issue', 'molly prime illustration multifaceted virtual nurse', 'allows simply schedule doctor visit privately discus health demand may', 'sixty four percent patient feel ease getting instruction molly', 'get outperformed virtual nurse twenty-four hour access medical assistant monitor patient condition continuously', 'number ten research', 'ai enables researcher gather enormous amount data numerous source', 'capacity use big expanding data collection allows precise analysis fatal disease', 'researcher profit abundance data currently available', 'technology aid medical practitioner managing enormous datasets also developed group engaged medical research', 'general benefit ai health care cant skip saying much help reduce stress medical practitioner', 'deadline work related variable put strain half primary care physician ai help streamline process automate task share data quickly organize operation dont juggle many task', 'yes ai much field health care', 'hope educational give thumb think useful', 'meet bye bye']\n"
          ]
        }
      ]
    },
    {
      "cell_type": "code",
      "source": [
        "data = []  # List to store dictionaries\n",
        "for sentence in result:\n",
        "  sentiment, polarity = getPolarity(sentence)\n",
        "  new_item = {'sentence' : sentence, 'sentiment' : sentiment, 'category' : 'Healthcare'}    # add category here\n",
        "  data.append(new_item)\n",
        "\n",
        "df = pd.DataFrame(data)"
      ],
      "metadata": {
        "id": "ZTMYsfPE-nfu"
      },
      "execution_count": null,
      "outputs": []
    },
    {
      "cell_type": "code",
      "source": [
        "# Make sure to change category\n",
        "df.to_csv('Healthcare data (podcast-scraped).csv', index=False)\n"
      ],
      "metadata": {
        "id": "lBXwJwqC-9et"
      },
      "execution_count": null,
      "outputs": []
    }
  ],
  "metadata": {
    "kernelspec": {
      "display_name": "Python 3.10.1 ('dg_plus_yt': venv)",
      "language": "python",
      "name": "python3"
    },
    "language_info": {
      "name": "python",
      "version": "3.10.1"
    },
    "orig_nbformat": 4,
    "vscode": {
      "interpreter": {
        "hash": "9ccb4f31e81b19d196bbac066caca5d222f2bb20938f55af05f3ca51e34eca69"
      }
    },
    "colab": {
      "provenance": []
    }
  },
  "nbformat": 4,
  "nbformat_minor": 0
}