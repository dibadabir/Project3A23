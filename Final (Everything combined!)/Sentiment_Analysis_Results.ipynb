{
  "nbformat": 4,
  "nbformat_minor": 0,
  "metadata": {
    "colab": {
      "provenance": [],
      "include_colab_link": true
    },
    "kernelspec": {
      "name": "python3",
      "display_name": "Python 3"
    },
    "language_info": {
      "name": "python"
    }
  },
  "cells": [
    {
      "cell_type": "markdown",
      "metadata": {
        "id": "view-in-github",
        "colab_type": "text"
      },
      "source": [
        "<a href=\"https://colab.research.google.com/github/dibadabir/Project3A23/blob/main/Sentiment_Analysis_Results_(1).ipynb\" target=\"_parent\"><img src=\"https://colab.research.google.com/assets/colab-badge.svg\" alt=\"Open In Colab\"/></a>"
      ]
    },
    {
      "cell_type": "markdown",
      "source": [
        "# Installing libraries"
      ],
      "metadata": {
        "id": "XffWjm7WA-fO"
      }
    },
    {
      "cell_type": "code",
      "execution_count": 1,
      "metadata": {
        "id": "AjlouHsqAtXp"
      },
      "outputs": [],
      "source": [
        "# Regular expression module allows pattern matching and manipulation of strings\n",
        "import re\n",
        "# Making dataframe\n",
        "import pandas as pd\n",
        "# Saving data into numpy array\n",
        "import numpy as np\n",
        "# The natrual language processing to process sentences\n",
        "import nltk\n",
        "# Used to display they results on a bar chart (graph)\n",
        "import matplotlib.pyplot as plt\n",
        "# Encoding categorical features\n",
        "from sklearn.preprocessing import LabelEncoder\n",
        "# Splitting our dataset into train and test\n",
        "from sklearn.model_selection import train_test_split\n",
        "# Get the report from evaluating models\n",
        "from sklearn.metrics import classification_report, accuracy_score\n",
        "# Converting text data into numerical vectors so that the machine can read it\n",
        "from sklearn.feature_extraction.text import TfidfVectorizer\n",
        "# Saving and loading the model\n",
        "import pickle"
      ]
    },
    {
      "cell_type": "markdown",
      "source": [
        "# Loading the dataset"
      ],
      "metadata": {
        "id": "fPdmSdIpBFc1"
      }
    },
    {
      "cell_type": "code",
      "source": [
        "# Load the data from excel file\n",
        "data = pd.read_excel('/content/Training Dataset.xlsx')\n",
        "\n",
        "# Extract sentences and labels\n",
        "sentences = data['sentence'].values\n",
        "labels = data['sentiment'].values\n",
        "\n",
        "# Split the data into training and testing sets (80% for training, 20% for testing)\n",
        "train_sentences, test_sentences, train_labels, test_labels = train_test_split(sentences, labels, shuffle=True, test_size=0.2, random_state=230)\n",
        "\n",
        "# Vectorize the text data using TfidfVectorizer\n",
        "vec = TfidfVectorizer()                                         # Vectorizing the text\n",
        "train_sentences_vectors = vec.fit_transform(train_sentences)    # Feed the training dataset to our model\n",
        "test_sentences_vectors = vec.transform(test_sentences)          # Transform the test data so that the machine can perform the analysis"
      ],
      "metadata": {
        "id": "xGX0LKNIA9lH"
      },
      "execution_count": 2,
      "outputs": []
    },
    {
      "cell_type": "markdown",
      "source": [
        "# Random Forest Model"
      ],
      "metadata": {
        "id": "w7aQ8SFtCKTD"
      }
    },
    {
      "cell_type": "code",
      "source": [
        "from sklearn.ensemble import RandomForestClassifier  # Import RandomForestClassifier\n",
        "\n",
        "# Initialize and train the Random Forest classifier\n",
        "clf_rf = RandomForestClassifier()  # Initialize RandomForestClassifier\n",
        "clf_rf.fit(train_sentences_vectors, train_labels)  # Fit the classifier on the training data\n",
        "\n",
        "# Predict using the trained Random Forest classifier\n",
        "clf_rf_pred = clf_rf.predict(test_sentences_vectors)\n",
        "\n",
        "# Evaluate the model using accuracy_score and Classification_report functions\n",
        "print(\"Random Forest Accuracy:\", accuracy_score(test_labels, clf_rf_pred))\n"
      ],
      "metadata": {
        "colab": {
          "base_uri": "https://localhost:8080/"
        },
        "id": "Bhfh8f_tCPes",
        "outputId": "eeb6e14a-46d3-4793-b10a-66af2520e742"
      },
      "execution_count": 3,
      "outputs": [
        {
          "output_type": "stream",
          "name": "stdout",
          "text": [
            "Random Forest Accuracy: 0.6666666666666666\n"
          ]
        }
      ]
    },
    {
      "cell_type": "markdown",
      "source": [
        "# Save the model"
      ],
      "metadata": {
        "id": "3M3AUTLVDwgz"
      }
    },
    {
      "cell_type": "code",
      "source": [
        "# Save model to a file\n",
        "model_save_path = '/content/RandomForest_model.pkl'\n",
        "with open(model_save_path, 'wb') as f:\n",
        "  pickle.dump(clf_rf, f)\n",
        "\n",
        "print(f'Random Forest model saved to {model_save_path}')"
      ],
      "metadata": {
        "colab": {
          "base_uri": "https://localhost:8080/"
        },
        "id": "rh3VjMvwCqZX",
        "outputId": "24e1e373-e102-4dbd-896c-7b758c7490b2"
      },
      "execution_count": 4,
      "outputs": [
        {
          "output_type": "stream",
          "name": "stdout",
          "text": [
            "Random Forest model saved to /content/RandomForest_model.pkl\n"
          ]
        }
      ]
    },
    {
      "cell_type": "markdown",
      "source": [
        "# Loading the Model"
      ],
      "metadata": {
        "id": "bb9CSjPdEjax"
      }
    },
    {
      "cell_type": "code",
      "source": [
        "# Load the model\n",
        "model_load_path = '/content/RandomForest_model.pkl'\n",
        "with open(model_save_path, 'rb') as f:\n",
        "  RF_model = pickle.load(f)"
      ],
      "metadata": {
        "id": "BUH8x-6UEmGt"
      },
      "execution_count": 5,
      "outputs": []
    },
    {
      "cell_type": "markdown",
      "source": [
        "# Load the Unknown Data"
      ],
      "metadata": {
        "id": "X8q4Cr5nFD2h"
      }
    },
    {
      "cell_type": "code",
      "source": [
        "# Load the Excel file\n",
        "excel_file = pd.ExcelFile('/content/Speech to Text (Combined, no number, CLEANED) - Vader.xlsx')\n",
        "\n",
        "# List all sheet names\n",
        "sheet_names = excel_file.sheet_names\n",
        "\n",
        "print('Sheet names from the file:\\n')\n",
        "for i in sheet_names:\n",
        "  print(i)"
      ],
      "metadata": {
        "colab": {
          "base_uri": "https://localhost:8080/"
        },
        "id": "b3IXTtJKFDR6",
        "outputId": "40bb57c2-cb94-4eeb-ef12-01a9749461c4"
      },
      "execution_count": 6,
      "outputs": [
        {
          "output_type": "stream",
          "name": "stdout",
          "text": [
            "Sheet names from the file:\n",
            "\n",
            "Combined\n",
            "E-Commerce\n",
            "Education\n",
            "Fashion\n",
            "GenAI\n",
            "Healthcare\n",
            "Travel\n"
          ]
        }
      ]
    },
    {
      "cell_type": "markdown",
      "source": [
        "# Function to visualise the results"
      ],
      "metadata": {
        "id": "yeZy9M5oztH0"
      }
    },
    {
      "cell_type": "code",
      "source": [
        "def horizontal_bar(sentiment_count, category):\n",
        "    # Extract sentiments and counts for only positive and negative sentiments\n",
        "    labels = ['positive', 'negative']\n",
        "    counts = [sentiment_count[label] for label in labels]\n",
        "\n",
        "    # Calculate percentages\n",
        "    total = sum(counts)\n",
        "    percentages = [(count / total) * 100 for count in counts]\n",
        "\n",
        "    # Create a figure\n",
        "    plt.figure(figsize=(15, 1.5))  # Adjust the width and height as needed\n",
        "\n",
        "    # Create horizontal bar chart\n",
        "    plt.barh(labels, percentages, color=['green', 'red'], height=0.5)\n",
        "\n",
        "    # Add percentages labels\n",
        "    for i, percentage in enumerate(percentages):\n",
        "        plt.text(percentage + 0.5, i, f'{percentage:.1f}%', va='center')\n",
        "\n",
        "    # Display labels on the left\n",
        "    plt.gca().invert_yaxis()\n",
        "\n",
        "    # Add title and labels\n",
        "    plt.title(f'{category} Sentiment Distribution')\n",
        "    plt.xlabel('Percentage')\n",
        "    plt.ylabel('Sentiment')\n",
        "\n",
        "    plt.show()"
      ],
      "metadata": {
        "id": "DIPswILpzyOm"
      },
      "execution_count": 7,
      "outputs": []
    },
    {
      "cell_type": "markdown",
      "source": [
        "# Predicting E-Commerce"
      ],
      "metadata": {
        "id": "Chy3G7EEKRZt"
      }
    },
    {
      "cell_type": "code",
      "source": [
        "# Choose a specific sheet\n",
        "selected_sheet = 'E-Commerce'\n",
        "\n",
        "# Saving the data in a dataframe\n",
        "ecommerce_speech = excel_file.parse(selected_sheet)\n",
        "\n",
        "ecommerce_speech_vec = vec.transform(ecommerce_speech['sentence'].values)\n",
        "\n",
        "# Predict using the trained model\n",
        "ecommerce_pred = RF_model.predict(ecommerce_speech_vec)"
      ],
      "metadata": {
        "id": "tdl7eMvsHDC3"
      },
      "execution_count": 8,
      "outputs": []
    },
    {
      "cell_type": "markdown",
      "source": [
        "Counting the results"
      ],
      "metadata": {
        "id": "GMBFofSMdW4f"
      }
    },
    {
      "cell_type": "code",
      "source": [
        "# Initialize counts for each sentiment\n",
        "ecommerce_sentiment_counts = {'positive': 0, 'negative': 0, 'neutral': 0}\n",
        "\n",
        "# Count occurrences of each sentiment\n",
        "for sentiment in ecommerce_pred:\n",
        "    ecommerce_sentiment_counts[sentiment] += 1\n",
        "\n",
        "# Print the counts\n",
        "print(\"Number of positives:\", ecommerce_sentiment_counts['positive'])\n",
        "print(\"Number of negatives:\", ecommerce_sentiment_counts['negative'])\n",
        "print(\"Number of neutrals:\", ecommerce_sentiment_counts['neutral'])"
      ],
      "metadata": {
        "colab": {
          "base_uri": "https://localhost:8080/"
        },
        "id": "IlIMykF8Kkp6",
        "outputId": "fe86916e-61e1-4081-edb0-83f641268b05"
      },
      "execution_count": 9,
      "outputs": [
        {
          "output_type": "stream",
          "name": "stdout",
          "text": [
            "Number of positives: 68\n",
            "Number of negatives: 27\n",
            "Number of neutrals: 107\n"
          ]
        }
      ]
    },
    {
      "cell_type": "markdown",
      "source": [
        "Visualising on bar chart"
      ],
      "metadata": {
        "id": "tzSoWdtOdZ3X"
      }
    },
    {
      "cell_type": "code",
      "source": [
        "horizontal_bar(ecommerce_sentiment_counts, 'E-Commerce')"
      ],
      "metadata": {
        "colab": {
          "base_uri": "https://localhost:8080/",
          "height": 218
        },
        "id": "7CxVAcr-LP-E",
        "outputId": "fc088050-fa84-4bb1-fbae-7a731e0c1718"
      },
      "execution_count": 10,
      "outputs": [
        {
          "output_type": "display_data",
          "data": {
            "text/plain": [
              "<Figure size 1500x150 with 1 Axes>"
            ],
            "image/png": "[encoded data removed]"
          },
          "metadata": {}
        }
      ]
    },
    {
      "cell_type": "markdown",
      "source": [
        "# Predicting Education"
      ],
      "metadata": {
        "id": "iJvb6HqDLg3b"
      }
    },
    {
      "cell_type": "code",
      "source": [
        "# Choose a specific sheet\n",
        "selected_sheet = 'Education'\n",
        "\n",
        "# Saving the data in a dataframe\n",
        "education_speech = excel_file.parse(selected_sheet)\n",
        "\n",
        "education_speech_vec = vec.transform(education_speech['sentence'].values)\n",
        "\n",
        "# Predict using the trained model\n",
        "education_pred = RF_model.predict(education_speech_vec)"
      ],
      "metadata": {
        "id": "RPmf-2_XLned"
      },
      "execution_count": 11,
      "outputs": []
    },
    {
      "cell_type": "markdown",
      "source": [
        "Counting the results"
      ],
      "metadata": {
        "id": "Omy4xo0-dmXY"
      }
    },
    {
      "cell_type": "code",
      "source": [
        "# Initialize counts for each sentiment\n",
        "education_sentiment_counts = {'positive': 0, 'negative': 0, 'neutral': 0}\n",
        "\n",
        "# Count occurrences of each sentiment\n",
        "for sentiment in education_pred:\n",
        "    education_sentiment_counts[sentiment] += 1\n",
        "\n",
        "# Print the counts\n",
        "print(\"Number of positives:\", education_sentiment_counts['positive'])\n",
        "print(\"Number of negatives:\", education_sentiment_counts['negative'])\n",
        "print(\"Number of neutrals:\", education_sentiment_counts['neutral'])"
      ],
      "metadata": {
        "colab": {
          "base_uri": "https://localhost:8080/"
        },
        "outputId": "cd56fd04-c613-4f7d-855e-ddf498b6bd2d",
        "id": "gHyWLpn-Ni1c"
      },
      "execution_count": 12,
      "outputs": [
        {
          "output_type": "stream",
          "name": "stdout",
          "text": [
            "Number of positives: 61\n",
            "Number of negatives: 23\n",
            "Number of neutrals: 150\n"
          ]
        }
      ]
    },
    {
      "cell_type": "markdown",
      "source": [
        "Visualising on bar chart"
      ],
      "metadata": {
        "id": "y-y2eFitdosR"
      }
    },
    {
      "cell_type": "code",
      "source": [
        "horizontal_bar(education_sentiment_counts, 'Education')"
      ],
      "metadata": {
        "colab": {
          "base_uri": "https://localhost:8080/",
          "height": 218
        },
        "outputId": "4d992976-9c8b-4142-cc45-017e8a33768c",
        "id": "LN9RRV_DNmSM"
      },
      "execution_count": 13,
      "outputs": [
        {
          "output_type": "display_data",
          "data": {
            "text/plain": [
              "<Figure size 1500x150 with 1 Axes>"
            ],
            "image/png": "[encoded data removed]"
          },
          "metadata": {}
        }
      ]
    },
    {
      "cell_type": "markdown",
      "source": [
        "# Predicting Fashion"
      ],
      "metadata": {
        "id": "OZq0njSeOw6M"
      }
    },
    {
      "cell_type": "code",
      "source": [
        "# Choose a specific sheet\n",
        "selected_sheet = 'Fashion'\n",
        "\n",
        "# Saving the data in a dataframe\n",
        "fashion_speech = excel_file.parse(selected_sheet)\n",
        "\n",
        "fashion_speech_vec = vec.transform(fashion_speech['sentence'].values)\n",
        "\n",
        "# Predict using the trained model\n",
        "fashion_pred = RF_model.predict(fashion_speech_vec)"
      ],
      "metadata": {
        "id": "5kMgb1IzPAzh"
      },
      "execution_count": 14,
      "outputs": []
    },
    {
      "cell_type": "markdown",
      "source": [
        "counting the reults"
      ],
      "metadata": {
        "id": "fCdTsUxSdud3"
      }
    },
    {
      "cell_type": "code",
      "source": [
        "# Initialize counts for each sentiment\n",
        "fashion_sentiment_counts = {'positive': 0, 'negative': 0, 'neutral': 0}\n",
        "\n",
        "# Count occurrences of each sentiment\n",
        "for sentiment in fashion_pred:\n",
        "    fashion_sentiment_counts[sentiment] += 1\n",
        "\n",
        "# Print the counts\n",
        "print(\"Number of positives:\", fashion_sentiment_counts['positive'])\n",
        "print(\"Number of negatives:\", fashion_sentiment_counts['negative'])\n",
        "print(\"Number of neutrals:\", fashion_sentiment_counts['neutral'])"
      ],
      "metadata": {
        "colab": {
          "base_uri": "https://localhost:8080/"
        },
        "id": "Ishnzbg4PAsi",
        "outputId": "c131a44c-2d39-49a8-b774-bd878e2434ff"
      },
      "execution_count": 15,
      "outputs": [
        {
          "output_type": "stream",
          "name": "stdout",
          "text": [
            "Number of positives: 93\n",
            "Number of negatives: 32\n",
            "Number of neutrals: 272\n"
          ]
        }
      ]
    },
    {
      "cell_type": "markdown",
      "source": [
        "Visualising on bar chart"
      ],
      "metadata": {
        "id": "mJqG65I-dyNm"
      }
    },
    {
      "cell_type": "code",
      "source": [
        "horizontal_bar(fashion_sentiment_counts, 'Fashion')"
      ],
      "metadata": {
        "colab": {
          "base_uri": "https://localhost:8080/",
          "height": 218
        },
        "id": "upCiiT5JPAgS",
        "outputId": "8fe9f95d-4b04-472b-d48c-839a92b1bb49"
      },
      "execution_count": 16,
      "outputs": [
        {
          "output_type": "display_data",
          "data": {
            "text/plain": [
              "<Figure size 1500x150 with 1 Axes>"
            ],
            "image/png": "[encoded data removed]"
          },
          "metadata": {}
        }
      ]
    },
    {
      "cell_type": "markdown",
      "source": [
        "# Predicting Generative AI"
      ],
      "metadata": {
        "id": "EYXPY5WgP1-0"
      }
    },
    {
      "cell_type": "code",
      "source": [
        "# Choose a specific sheet\n",
        "selected_sheet = 'GenAI'\n",
        "\n",
        "# Saving the data in a dataframe\n",
        "genai_speech = excel_file.parse(selected_sheet)\n",
        "\n",
        "genai_speech_vec = vec.transform(genai_speech['sentence'].values)\n",
        "\n",
        "# Predict using the trained model\n",
        "genai_pred = RF_model.predict(genai_speech_vec)"
      ],
      "metadata": {
        "id": "jcGIghgAQDbS"
      },
      "execution_count": 17,
      "outputs": []
    },
    {
      "cell_type": "markdown",
      "source": [
        "Counting the results"
      ],
      "metadata": {
        "id": "aPC7DJ2Sd3Hs"
      }
    },
    {
      "cell_type": "code",
      "source": [
        "# Initialize counts for each sentiment\n",
        "genai_sentiment_counts = {'positive': 0, 'negative': 0, 'neutral': 0}\n",
        "\n",
        "# Count occurrences of each sentiment\n",
        "for sentiment in genai_pred:\n",
        "    genai_sentiment_counts[sentiment] += 1\n",
        "\n",
        "# Print the counts\n",
        "print(\"Number of positives:\", genai_sentiment_counts['positive'])\n",
        "print(\"Number of negatives:\", genai_sentiment_counts['negative'])\n",
        "print(\"Number of neutrals:\", genai_sentiment_counts['neutral'])"
      ],
      "metadata": {
        "colab": {
          "base_uri": "https://localhost:8080/"
        },
        "id": "K-CesmKAQDUz",
        "outputId": "a07d7377-4fa1-4a2f-b3e4-c39d452a1264"
      },
      "execution_count": 18,
      "outputs": [
        {
          "output_type": "stream",
          "name": "stdout",
          "text": [
            "Number of positives: 107\n",
            "Number of negatives: 51\n",
            "Number of neutrals: 177\n"
          ]
        }
      ]
    },
    {
      "cell_type": "markdown",
      "source": [
        "Visualising on bar chart"
      ],
      "metadata": {
        "id": "HAqvh4dxd2L_"
      }
    },
    {
      "cell_type": "code",
      "source": [
        "horizontal_bar(genai_sentiment_counts, 'Generative AI')"
      ],
      "metadata": {
        "colab": {
          "base_uri": "https://localhost:8080/",
          "height": 218
        },
        "id": "3PMdxQJRQDNC",
        "outputId": "ece5c3d0-b473-4f11-a257-7e4313c05e4f"
      },
      "execution_count": 19,
      "outputs": [
        {
          "output_type": "display_data",
          "data": {
            "text/plain": [
              "<Figure size 1500x150 with 1 Axes>"
            ],
            "image/png": "[encoded data removed]"
          },
          "metadata": {}
        }
      ]
    },
    {
      "cell_type": "markdown",
      "source": [
        "# Predicting Healthcare"
      ],
      "metadata": {
        "id": "ZdkNR0iRP6Cz"
      }
    },
    {
      "cell_type": "code",
      "source": [
        "# Choose a specific sheet\n",
        "selected_sheet = 'Healthcare'\n",
        "\n",
        "# Saving the data in a dataframe\n",
        "healthcare_speech = excel_file.parse(selected_sheet)\n",
        "\n",
        "healthcare_speech_vec = vec.transform(healthcare_speech['sentence'].values)\n",
        "\n",
        "# Predict using the trained model\n",
        "healthcare_pred = RF_model.predict(healthcare_speech_vec)"
      ],
      "metadata": {
        "id": "26C5BeiIQecR"
      },
      "execution_count": 20,
      "outputs": []
    },
    {
      "cell_type": "markdown",
      "source": [
        "Counting the results"
      ],
      "metadata": {
        "id": "gPl8PIV7d5ed"
      }
    },
    {
      "cell_type": "code",
      "source": [
        "# Initialize counts for each sentiment\n",
        "healthcare_sentiment_counts = {'positive': 0, 'negative': 0, 'neutral': 0}\n",
        "\n",
        "# Count occurrences of each sentiment\n",
        "for sentiment in healthcare_pred:\n",
        "    healthcare_sentiment_counts[sentiment] += 1\n",
        "\n",
        "# Print the counts\n",
        "print(\"Number of positives:\", healthcare_sentiment_counts['positive'])\n",
        "print(\"Number of negatives:\", healthcare_sentiment_counts['negative'])\n",
        "print(\"Number of neutrals:\", healthcare_sentiment_counts['neutral'])"
      ],
      "metadata": {
        "colab": {
          "base_uri": "https://localhost:8080/"
        },
        "id": "o_gG7D5UQeXA",
        "outputId": "c4e05890-c9a2-407e-9cf9-f29d634e5b30"
      },
      "execution_count": 21,
      "outputs": [
        {
          "output_type": "stream",
          "name": "stdout",
          "text": [
            "Number of positives: 74\n",
            "Number of negatives: 36\n",
            "Number of neutrals: 83\n"
          ]
        }
      ]
    },
    {
      "cell_type": "markdown",
      "source": [
        "Visualising on bar chart"
      ],
      "metadata": {
        "id": "blybsie0d6Q9"
      }
    },
    {
      "cell_type": "code",
      "source": [
        "horizontal_bar(healthcare_sentiment_counts, 'Healthcare')"
      ],
      "metadata": {
        "colab": {
          "base_uri": "https://localhost:8080/",
          "height": 218
        },
        "id": "IJAo9bhMQeQo",
        "outputId": "80ae0dd9-aa37-4743-9467-1f4f1a73097e"
      },
      "execution_count": 22,
      "outputs": [
        {
          "output_type": "display_data",
          "data": {
            "text/plain": [
              "<Figure size 1500x150 with 1 Axes>"
            ],
            "image/png": "[encoded data removed]"
          },
          "metadata": {}
        }
      ]
    },
    {
      "cell_type": "markdown",
      "source": [
        "# Predicting Travel"
      ],
      "metadata": {
        "id": "-8yrq1iGP8uD"
      }
    },
    {
      "cell_type": "code",
      "source": [
        "# Choose a specific sheet\n",
        "selected_sheet = 'Travel'\n",
        "\n",
        "# Saving the data in a dataframe\n",
        "travel_speech = excel_file.parse(selected_sheet)\n",
        "\n",
        "travel_speech_vec = vec.transform(travel_speech['sentence'].values)\n",
        "\n",
        "# Predict using the trained model\n",
        "travel_pred = RF_model.predict(travel_speech_vec)"
      ],
      "metadata": {
        "id": "DcxKYbxLRMDg"
      },
      "execution_count": 23,
      "outputs": []
    },
    {
      "cell_type": "markdown",
      "source": [
        "Counting the results"
      ],
      "metadata": {
        "id": "T8CLjJq_d9VV"
      }
    },
    {
      "cell_type": "code",
      "source": [
        "# Initialize counts for each sentiment\n",
        "travel_sentiment_counts = {'positive': 0, 'negative': 0, 'neutral': 0}\n",
        "\n",
        "# Count occurrences of each sentiment\n",
        "for sentiment in travel_pred:\n",
        "    travel_sentiment_counts[sentiment] += 1\n",
        "\n",
        "# Print the counts\n",
        "print(\"Number of positives:\", travel_sentiment_counts['positive'])\n",
        "print(\"Number of negatives:\", travel_sentiment_counts['negative'])\n",
        "print(\"Number of neutrals:\", travel_sentiment_counts['neutral'])"
      ],
      "metadata": {
        "colab": {
          "base_uri": "https://localhost:8080/"
        },
        "id": "TpmyLIBtRL82",
        "outputId": "004a0c8d-ef02-4eab-a5ab-079cf0deb490"
      },
      "execution_count": 24,
      "outputs": [
        {
          "output_type": "stream",
          "name": "stdout",
          "text": [
            "Number of positives: 40\n",
            "Number of negatives: 18\n",
            "Number of neutrals: 71\n"
          ]
        }
      ]
    },
    {
      "cell_type": "markdown",
      "source": [
        "Visualising on pie chart"
      ],
      "metadata": {
        "id": "QxzDX3did8d9"
      }
    },
    {
      "cell_type": "code",
      "source": [
        "horizontal_bar(travel_sentiment_counts, 'Travel')"
      ],
      "metadata": {
        "colab": {
          "base_uri": "https://localhost:8080/",
          "height": 218
        },
        "id": "exMXTWoVRLy_",
        "outputId": "5baa8622-192a-4e0d-f3e0-c86c45ef85b3"
      },
      "execution_count": 25,
      "outputs": [
        {
          "output_type": "display_data",
          "data": {
            "text/plain": [
              "<Figure size 1500x150 with 1 Axes>"
            ],
            "image/png": "[encoded data removed]"
          },
          "metadata": {}
        }
      ]
    }
  ]
}
