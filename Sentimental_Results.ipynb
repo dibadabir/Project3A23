{
  "nbformat": 4,
  "nbformat_minor": 0,
  "metadata": {
    "colab": {
      "provenance": [],
      "mount_file_id": "11WrpAQ4TBmOmxkiBujb-PzD_-fBu5KVV",
      "authorship_tag": "ABX9TyPQYTvjRe/mxOpQ+C3AC5QA",
      "include_colab_link": true
    },
    "kernelspec": {
      "name": "python3",
      "display_name": "Python 3"
    },
    "language_info": {
      "name": "python"
    }
  },
  "cells": [
    {
      "cell_type": "markdown",
      "metadata": {
        "id": "view-in-github",
        "colab_type": "text"
      },
      "source": [
        "<a href=\"https://colab.research.google.com/github/dibadabir/Project3A23/blob/main/Sentimental_Results.ipynb\" target=\"_parent\"><img src=\"https://colab.research.google.com/assets/colab-badge.svg\" alt=\"Open In Colab\"/></a>"
      ]
    },
    {
      "cell_type": "markdown",
      "source": [
        "# Installing libraries"
      ],
      "metadata": {
        "id": "XffWjm7WA-fO"
      }
    },
    {
      "cell_type": "code",
      "execution_count": 99,
      "metadata": {
        "id": "AjlouHsqAtXp"
      },
      "outputs": [],
      "source": [
        "# Regular expression module allows pattern matching and manipulation of strings\n",
        "import re\n",
        "# Making dataframe\n",
        "import pandas as pd\n",
        "# Saving data into numpy array\n",
        "import numpy as np\n",
        "# The natrual language processing to process sentences\n",
        "import nltk\n",
        "# Used to display they results on a bar chart (graph)\n",
        "import matplotlib.pyplot as plt\n",
        "# Encoding categorical features\n",
        "from sklearn.preprocessing import LabelEncoder\n",
        "# Splitting our dataset into train and test\n",
        "from sklearn.model_selection import train_test_split\n",
        "# Get the report from evaluating models\n",
        "from sklearn.metrics import classification_report, accuracy_score\n",
        "# Converting text data into numerical vectors so that the machine can read it\n",
        "from sklearn.feature_extraction.text import TfidfVectorizer\n",
        "# Saving and loading the model\n",
        "import pickle"
      ]
    },
    {
      "cell_type": "markdown",
      "source": [
        "# Loading the dataset"
      ],
      "metadata": {
        "id": "fPdmSdIpBFc1"
      }
    },
    {
      "cell_type": "code",
      "source": [
        "# Load the data from excel file\n",
        "data = pd.read_excel('/content/Training Dataset.xlsx')\n",
        "\n",
        "# Extract sentences and labels\n",
        "sentences = data['sentence'].values\n",
        "labels = data['sentiment'].values\n",
        "\n",
        "# Split the data into training and testing sets (80% for training, 20% for testing)\n",
        "train_sentences, test_sentences, train_labels, test_labels = train_test_split(sentences, labels, shuffle=True, test_size=0.2, random_state=230)\n",
        "\n",
        "# Vectorize the text data using TfidfVectorizer\n",
        "vec = TfidfVectorizer()                                         # Vectorizing the text\n",
        "train_sentences_vectors = vec.fit_transform(train_sentences)    # Feed the training dataset to our model\n",
        "test_sentences_vectors = vec.transform(test_sentences)          # Transform the test data so that the machine can perform the analysis"
      ],
      "metadata": {
        "id": "xGX0LKNIA9lH"
      },
      "execution_count": 100,
      "outputs": []
    },
    {
      "cell_type": "markdown",
      "source": [
        "# Function to visualise the evaluation report"
      ],
      "metadata": {
        "id": "Rqgahi-NBev1"
      }
    },
    {
      "cell_type": "code",
      "source": [
        "def display (report, title):\n",
        "  # Extracting the evaluation matrices from Classification report\n",
        "  class_names = list(report.keys())[:-3]  # columns from classification report exclude 'accuracy', 'macro avg', and 'weighted avg'\n",
        "\n",
        "  # Plotting\n",
        "  plt.figure(figsize=(12, 6))\n",
        "\n",
        "  # Display precision, recall, f1-score\n",
        "  plt.subplot(1, 2, 2)\n",
        "  precision = [report[label]['precision'] for label in class_names]\n",
        "  recall = [report[label]['recall'] for label in class_names]\n",
        "  f1_score = [report[label]['f1-score'] for label in class_names]\n",
        "\n",
        "  bar_width = 0.2\n",
        "  index = range(len(class_names))\n",
        "\n",
        "  # Choosing colors for bars\n",
        "  colors = ['#FFB6C1', '#C0C0C0', '#120C6E']\n",
        "\n",
        "  # Displaying each matric with diffrent color\n",
        "  # Precision\n",
        "  plt.bar(index, precision, width=bar_width, color=colors[0], label='Precision', edgecolor='black')\n",
        "  # Recall\n",
        "  plt.bar([i + bar_width for i in index], recall, width=bar_width, color=colors[1], label='Recall', edgecolor='black')\n",
        "  # F1-Score\n",
        "  plt.bar([i + 2 * bar_width for i in index], f1_score, width=bar_width, color=colors[2], label='F1-Score', edgecolor='black')\n",
        "\n",
        "  # Labeling the x-axes\n",
        "  plt.xlabel('Sentiment')\n",
        "  plt.xticks([i + 1.5 * bar_width for i in index], class_names)\n",
        "  # Naming the whole graph\n",
        "  plt.title(title)\n",
        "  plt.ylim(0, 1)  # Set y-axis limits from 0 to 1 for accuracy percentage\n",
        "  # Mapping out the meaning of each bar\n",
        "  plt.legend()\n",
        "\n",
        "  plt.tight_layout()\n",
        "  plt.show()"
      ],
      "metadata": {
        "id": "wXyzJn6yBeMt"
      },
      "execution_count": 101,
      "outputs": []
    },
    {
      "cell_type": "markdown",
      "source": [
        "# Random Forest Model"
      ],
      "metadata": {
        "id": "w7aQ8SFtCKTD"
      }
    },
    {
      "cell_type": "code",
      "source": [
        "from sklearn.ensemble import RandomForestClassifier  # Import RandomForestClassifier\n",
        "\n",
        "# Initialize and train the Random Forest classifier\n",
        "clf_rf = RandomForestClassifier()  # Initialize RandomForestClassifier\n",
        "clf_rf.fit(train_sentences_vectors, train_labels)  # Fit the classifier on the training data\n",
        "\n",
        "# Predict using the trained Random Forest classifier\n",
        "clf_rf_pred = clf_rf.predict(test_sentences_vectors)\n",
        "\n",
        "# Evaluate the model using accuracy_score and Classification_report functions\n",
        "print(\"Random Forest Accuracy:\", accuracy_score(test_labels, clf_rf_pred))\n"
      ],
      "metadata": {
        "colab": {
          "base_uri": "https://localhost:8080/"
        },
        "id": "Bhfh8f_tCPes",
        "outputId": "1c3e727e-97b5-4499-94f8-712ecc250ca8"
      },
      "execution_count": 102,
      "outputs": [
        {
          "output_type": "stream",
          "name": "stdout",
          "text": [
            "Random Forest Accuracy: 0.6560283687943262\n"
          ]
        }
      ]
    },
    {
      "cell_type": "markdown",
      "source": [
        "# Save the model"
      ],
      "metadata": {
        "id": "3M3AUTLVDwgz"
      }
    },
    {
      "cell_type": "code",
      "source": [
        "# Save model to a file\n",
        "model_save_path = '/content/drive/MyDrive/RandomForest_model.pkl'\n",
        "with open(model_save_path, 'wb') as f:\n",
        "  pickle.dump(clf_rf, f)\n",
        "\n",
        "print(f'Random Forest model saved to {model_save_path}')"
      ],
      "metadata": {
        "colab": {
          "base_uri": "https://localhost:8080/"
        },
        "id": "rh3VjMvwCqZX",
        "outputId": "645bda02-1d05-4de9-ea24-a69fa66fa728"
      },
      "execution_count": 103,
      "outputs": [
        {
          "output_type": "stream",
          "name": "stdout",
          "text": [
            "Random Forest model saved to /content/drive/MyDrive/RandomForest_model.pkl\n"
          ]
        }
      ]
    },
    {
      "cell_type": "markdown",
      "source": [
        "# Loading the Model"
      ],
      "metadata": {
        "id": "bb9CSjPdEjax"
      }
    },
    {
      "cell_type": "code",
      "source": [
        "# Load the model\n",
        "model_load_path = '/content/drive/MyDrive/RandomForest_model.pk'\n",
        "with open(model_save_path, 'rb') as f:\n",
        "  RF_model = pickle.load(f)"
      ],
      "metadata": {
        "id": "BUH8x-6UEmGt"
      },
      "execution_count": 104,
      "outputs": []
    },
    {
      "cell_type": "markdown",
      "source": [
        "# Load the Unknown Data"
      ],
      "metadata": {
        "id": "X8q4Cr5nFD2h"
      }
    },
    {
      "cell_type": "code",
      "source": [
        "# Load the Excel file\n",
        "excel_file = pd.ExcelFile('/content/Speech to Text (Combined, no number, CLEANED) - Vader.xlsx')\n",
        "\n",
        "# List all sheet names\n",
        "sheet_names = excel_file.sheet_names\n",
        "\n",
        "print('Sheet names from the file:\\n')\n",
        "for i in sheet_names:\n",
        "  print(i)"
      ],
      "metadata": {
        "colab": {
          "base_uri": "https://localhost:8080/"
        },
        "id": "b3IXTtJKFDR6",
        "outputId": "56e98e5d-9852-4bd6-d1fb-851d97b0b27e"
      },
      "execution_count": 105,
      "outputs": [
        {
          "output_type": "stream",
          "name": "stdout",
          "text": [
            "Sheet names from the file:\n",
            "\n",
            "Combined\n",
            "E-Commerce\n",
            "Education\n",
            "Fashion\n",
            "GenAI\n",
            "Healthcare\n",
            "Travel\n"
          ]
        }
      ]
    },
    {
      "cell_type": "markdown",
      "source": [
        "# Predicting E-Commerce"
      ],
      "metadata": {
        "id": "Chy3G7EEKRZt"
      }
    },
    {
      "cell_type": "code",
      "source": [
        "# Choose a specific sheet\n",
        "selected_sheet = 'E-Commerce'\n",
        "\n",
        "# Saving the data in a dataframe\n",
        "ecommerce_speech = excel_file.parse(selected_sheet)\n",
        "\n",
        "ecommerce_speech_vec = vec.transform(ecommerce_speech['sentence'].values)\n",
        "\n",
        "# Predict using the trained Random Forest classifier\n",
        "ecommerce_pred = RF_model.predict(ecommerce_speech_vec)"
      ],
      "metadata": {
        "id": "tdl7eMvsHDC3"
      },
      "execution_count": 106,
      "outputs": []
    },
    {
      "cell_type": "markdown",
      "source": [
        "Counting the results"
      ],
      "metadata": {
        "id": "GMBFofSMdW4f"
      }
    },
    {
      "cell_type": "code",
      "source": [
        "# Initialize counts for each sentiment\n",
        "ecommerce_sentiment_counts = {'postive': 0, 'negative': 0, 'neutral': 0}\n",
        "\n",
        "# Count occurrences of each sentiment\n",
        "for sentiment in ecommerce_pred:\n",
        "    ecommerce_sentiment_counts[sentiment] += 1\n",
        "\n",
        "# Print the counts\n",
        "print(\"Number of positives:\", ecommerce_sentiment_counts['postive'])\n",
        "print(\"Number of negatives:\", ecommerce_sentiment_counts['negative'])\n",
        "print(\"Number of neutrals:\", ecommerce_sentiment_counts['neutral'])"
      ],
      "metadata": {
        "colab": {
          "base_uri": "https://localhost:8080/"
        },
        "id": "IlIMykF8Kkp6",
        "outputId": "57d9439f-9ade-458d-dc2d-b4d8cbfc9494"
      },
      "execution_count": 107,
      "outputs": [
        {
          "output_type": "stream",
          "name": "stdout",
          "text": [
            "Number of positives: 66\n",
            "Number of negatives: 23\n",
            "Number of neutrals: 113\n"
          ]
        }
      ]
    },
    {
      "cell_type": "markdown",
      "source": [
        "Visualising on pie chart"
      ],
      "metadata": {
        "id": "tzSoWdtOdZ3X"
      }
    },
    {
      "cell_type": "code",
      "source": [
        "# Extract sentiments and counts for only positive and negative sentiments\n",
        "labels = ['postive', 'negative']\n",
        "counts = [ecommerce_sentiment_counts[label] for label in labels]\n",
        "\n",
        "# Create pie chart\n",
        "plt.pie(counts, labels=labels,  autopct='%1.1f%%', colors=['green', 'red'])\n",
        "\n",
        "# Add title\n",
        "plt.title('E-Commerce Sentiment Distribution')\n",
        "\n",
        "# Show plot\n",
        "plt.show()"
      ],
      "metadata": {
        "colab": {
          "base_uri": "https://localhost:8080/",
          "height": 428
        },
        "id": "7CxVAcr-LP-E",
        "outputId": "1e9dd03d-a96b-4d86-e80e-feb3e9a4eeb6"
      },
      "execution_count": 108,
      "outputs": [
        {
          "output_type": "display_data",
          "data": {
            "text/plain": [
              "<Figure size 640x480 with 1 Axes>"
            ],
            "image/png": "[encoded data removed]"
          },
          "metadata": {}
        }
      ]
    },
    {
      "cell_type": "markdown",
      "source": [
        "# Predicting Education"
      ],
      "metadata": {
        "id": "iJvb6HqDLg3b"
      }
    },
    {
      "cell_type": "code",
      "source": [
        "# Choose a specific sheet\n",
        "selected_sheet = 'Education'\n",
        "\n",
        "# Saving the data in a dataframe\n",
        "education_speech = excel_file.parse(selected_sheet)\n",
        "\n",
        "education_speech_vec = vec.transform(education_speech['sentence'].values)\n",
        "\n",
        "# Predict using the trained Random Forest classifier\n",
        "education_pred = RF_model.predict(education_speech_vec)"
      ],
      "metadata": {
        "id": "RPmf-2_XLned"
      },
      "execution_count": 109,
      "outputs": []
    },
    {
      "cell_type": "markdown",
      "source": [
        "Counting the results"
      ],
      "metadata": {
        "id": "Omy4xo0-dmXY"
      }
    },
    {
      "cell_type": "code",
      "source": [
        "# Initialize counts for each sentiment\n",
        "education_sentiment_counts = {'postive': 0, 'negative': 0, 'neutral': 0}\n",
        "\n",
        "# Count occurrences of each sentiment\n",
        "for sentiment in education_pred:\n",
        "    education_sentiment_counts[sentiment] += 1\n",
        "\n",
        "# Print the counts\n",
        "print(\"Number of positives:\", education_sentiment_counts['postive'])\n",
        "print(\"Number of negatives:\", education_sentiment_counts['negative'])\n",
        "print(\"Number of neutrals:\", education_sentiment_counts['neutral'])"
      ],
      "metadata": {
        "colab": {
          "base_uri": "https://localhost:8080/"
        },
        "outputId": "e03a022f-2138-4499-968f-80d8081adce6",
        "id": "gHyWLpn-Ni1c"
      },
      "execution_count": 110,
      "outputs": [
        {
          "output_type": "stream",
          "name": "stdout",
          "text": [
            "Number of positives: 58\n",
            "Number of negatives: 28\n",
            "Number of neutrals: 148\n"
          ]
        }
      ]
    },
    {
      "cell_type": "markdown",
      "source": [
        "Visualising on pie chart"
      ],
      "metadata": {
        "id": "y-y2eFitdosR"
      }
    },
    {
      "cell_type": "code",
      "source": [
        "# Extract sentiments and counts for only positive and negative sentiments\n",
        "labels = ['postive', 'negative']\n",
        "counts = [education_sentiment_counts[label] for label in labels]\n",
        "\n",
        "# Create pie chart\n",
        "plt.pie(counts, labels=labels,  autopct='%1.1f%%', colors=['green', 'red'])\n",
        "\n",
        "# Add title\n",
        "plt.title('Education Sentiment Distribution')\n",
        "\n",
        "# Show plot\n",
        "plt.show()"
      ],
      "metadata": {
        "colab": {
          "base_uri": "https://localhost:8080/",
          "height": 428
        },
        "outputId": "fbd60800-75bc-4e92-d87a-de9b0fad855e",
        "id": "LN9RRV_DNmSM"
      },
      "execution_count": 111,
      "outputs": [
        {
          "output_type": "display_data",
          "data": {
            "text/plain": [
              "<Figure size 640x480 with 1 Axes>"
            ],
            "image/png": "[encoded data removed]"
          },
          "metadata": {}
        }
      ]
    },
    {
      "cell_type": "markdown",
      "source": [
        "# Predicting Fashion"
      ],
      "metadata": {
        "id": "OZq0njSeOw6M"
      }
    },
    {
      "cell_type": "code",
      "source": [
        "# Choose a specific sheet\n",
        "selected_sheet = 'Fashion'\n",
        "\n",
        "# Saving the data in a dataframe\n",
        "fashion_speech = excel_file.parse(selected_sheet)\n",
        "\n",
        "fashion_speech_vec = vec.transform(fashion_speech['sentence'].values)\n",
        "\n",
        "# Predict using the trained Random Forest classifier\n",
        "fashion_pred = RF_model.predict(fashion_speech_vec)"
      ],
      "metadata": {
        "id": "5kMgb1IzPAzh"
      },
      "execution_count": 112,
      "outputs": []
    },
    {
      "cell_type": "markdown",
      "source": [
        "counting the reults"
      ],
      "metadata": {
        "id": "fCdTsUxSdud3"
      }
    },
    {
      "cell_type": "code",
      "source": [
        "# Initialize counts for each sentiment\n",
        "fashion_sentiment_counts = {'postive': 0, 'negative': 0, 'neutral': 0}\n",
        "\n",
        "# Count occurrences of each sentiment\n",
        "for sentiment in fashion_pred:\n",
        "    fashion_sentiment_counts[sentiment] += 1\n",
        "\n",
        "# Print the counts\n",
        "print(\"Number of positives:\", fashion_sentiment_counts['postive'])\n",
        "print(\"Number of negatives:\", fashion_sentiment_counts['negative'])\n",
        "print(\"Number of neutrals:\", fashion_sentiment_counts['neutral'])"
      ],
      "metadata": {
        "colab": {
          "base_uri": "https://localhost:8080/"
        },
        "id": "Ishnzbg4PAsi",
        "outputId": "8f0c5675-af44-4a4d-9cb9-66acc8d29ca1"
      },
      "execution_count": 113,
      "outputs": [
        {
          "output_type": "stream",
          "name": "stdout",
          "text": [
            "Number of positives: 93\n",
            "Number of negatives: 31\n",
            "Number of neutrals: 273\n"
          ]
        }
      ]
    },
    {
      "cell_type": "markdown",
      "source": [
        "Visualising on pie chart"
      ],
      "metadata": {
        "id": "mJqG65I-dyNm"
      }
    },
    {
      "cell_type": "code",
      "source": [
        "# Extract sentiments and counts for only positive and negative sentiments\n",
        "labels = ['postive', 'negative']\n",
        "counts = [fashion_sentiment_counts[label] for label in labels]\n",
        "\n",
        "# Create pie chart\n",
        "plt.pie(counts, labels=labels,  autopct='%1.1f%%', colors=['green', 'red'])\n",
        "\n",
        "# Add title\n",
        "plt.title('Fashion Sentiment Distribution')\n",
        "\n",
        "# Show plot\n",
        "plt.show()"
      ],
      "metadata": {
        "colab": {
          "base_uri": "https://localhost:8080/",
          "height": 428
        },
        "id": "upCiiT5JPAgS",
        "outputId": "12efee1e-0e53-463d-821e-5703a553b2e3"
      },
      "execution_count": 114,
      "outputs": [
        {
          "output_type": "display_data",
          "data": {
            "text/plain": [
              "<Figure size 640x480 with 1 Axes>"
            ],
            "image/png": "[encoded data removed]"
          },
          "metadata": {}
        }
      ]
    },
    {
      "cell_type": "markdown",
      "source": [
        "# Predicting Generative AI"
      ],
      "metadata": {
        "id": "EYXPY5WgP1-0"
      }
    },
    {
      "cell_type": "code",
      "source": [
        "# Choose a specific sheet\n",
        "selected_sheet = 'GenAI'\n",
        "\n",
        "# Saving the data in a dataframe\n",
        "genai_speech = excel_file.parse(selected_sheet)\n",
        "\n",
        "genai_speech_vec = vec.transform(genai_speech['sentence'].values)\n",
        "\n",
        "# Predict using the trained Random Forest classifier\n",
        "genai_pred = RF_model.predict(genai_speech_vec)"
      ],
      "metadata": {
        "id": "jcGIghgAQDbS"
      },
      "execution_count": 115,
      "outputs": []
    },
    {
      "cell_type": "markdown",
      "source": [
        "Counting the results"
      ],
      "metadata": {
        "id": "aPC7DJ2Sd3Hs"
      }
    },
    {
      "cell_type": "code",
      "source": [
        "# Initialize counts for each sentiment\n",
        "genai_sentiment_counts = {'postive': 0, 'negative': 0, 'neutral': 0}\n",
        "\n",
        "# Count occurrences of each sentiment\n",
        "for sentiment in genai_pred:\n",
        "    genai_sentiment_counts[sentiment] += 1\n",
        "\n",
        "# Print the counts\n",
        "print(\"Number of positives:\", genai_sentiment_counts['postive'])\n",
        "print(\"Number of negatives:\", genai_sentiment_counts['negative'])\n",
        "print(\"Number of neutrals:\", genai_sentiment_counts['neutral'])"
      ],
      "metadata": {
        "colab": {
          "base_uri": "https://localhost:8080/"
        },
        "id": "K-CesmKAQDUz",
        "outputId": "31758aa7-6390-45b4-a687-f8290428fe5b"
      },
      "execution_count": 116,
      "outputs": [
        {
          "output_type": "stream",
          "name": "stdout",
          "text": [
            "Number of positives: 106\n",
            "Number of negatives: 52\n",
            "Number of neutrals: 177\n"
          ]
        }
      ]
    },
    {
      "cell_type": "markdown",
      "source": [
        "Visualising on pie chart"
      ],
      "metadata": {
        "id": "HAqvh4dxd2L_"
      }
    },
    {
      "cell_type": "code",
      "source": [
        "# Extract sentiments and counts for only positive and negative sentiments\n",
        "labels = ['postive', 'negative']\n",
        "counts = [genai_sentiment_counts[label] for label in labels]\n",
        "\n",
        "# Create pie chart\n",
        "plt.pie(counts, labels=labels,  autopct='%1.1f%%', colors=['green', 'red'])\n",
        "\n",
        "# Add title\n",
        "plt.title('Generative AI Sentiment Distribution')\n",
        "\n",
        "# Show plot\n",
        "plt.show()"
      ],
      "metadata": {
        "colab": {
          "base_uri": "https://localhost:8080/",
          "height": 428
        },
        "id": "3PMdxQJRQDNC",
        "outputId": "c0c22b30-23c2-4bef-910d-e2a8c80ab84a"
      },
      "execution_count": 117,
      "outputs": [
        {
          "output_type": "display_data",
          "data": {
            "text/plain": [
              "<Figure size 640x480 with 1 Axes>"
            ],
            "image/png": "[encoded data removed]"
          },
          "metadata": {}
        }
      ]
    },
    {
      "cell_type": "markdown",
      "source": [
        "# Predicting Healthcare"
      ],
      "metadata": {
        "id": "ZdkNR0iRP6Cz"
      }
    },
    {
      "cell_type": "code",
      "source": [
        "# Choose a specific sheet\n",
        "selected_sheet = 'Healthcare'\n",
        "\n",
        "# Saving the data in a dataframe\n",
        "healthcare_speech = excel_file.parse(selected_sheet)\n",
        "\n",
        "healthcare_speech_vec = vec.transform(healthcare_speech['sentence'].values)\n",
        "\n",
        "# Predict using the trained Random Forest classifier\n",
        "healthcare_pred = RF_model.predict(healthcare_speech_vec)"
      ],
      "metadata": {
        "id": "26C5BeiIQecR"
      },
      "execution_count": 118,
      "outputs": []
    },
    {
      "cell_type": "markdown",
      "source": [
        "Counting the results"
      ],
      "metadata": {
        "id": "gPl8PIV7d5ed"
      }
    },
    {
      "cell_type": "code",
      "source": [
        "# Initialize counts for each sentiment\n",
        "healthcare_sentiment_counts = {'postive': 0, 'negative': 0, 'neutral': 0}\n",
        "\n",
        "# Count occurrences of each sentiment\n",
        "for sentiment in healthcare_pred:\n",
        "    healthcare_sentiment_counts[sentiment] += 1\n",
        "\n",
        "# Print the counts\n",
        "print(\"Number of positives:\", healthcare_sentiment_counts['postive'])\n",
        "print(\"Number of negatives:\", healthcare_sentiment_counts['negative'])\n",
        "print(\"Number of neutrals:\", healthcare_sentiment_counts['neutral'])"
      ],
      "metadata": {
        "colab": {
          "base_uri": "https://localhost:8080/"
        },
        "id": "o_gG7D5UQeXA",
        "outputId": "ed691b6d-71c5-48c7-d81b-5dbf6b3b9a7c"
      },
      "execution_count": 119,
      "outputs": [
        {
          "output_type": "stream",
          "name": "stdout",
          "text": [
            "Number of positives: 73\n",
            "Number of negatives: 38\n",
            "Number of neutrals: 82\n"
          ]
        }
      ]
    },
    {
      "cell_type": "markdown",
      "source": [
        "Visualising on pie chart"
      ],
      "metadata": {
        "id": "blybsie0d6Q9"
      }
    },
    {
      "cell_type": "code",
      "source": [
        "# Extract sentiments and counts for only positive and negative sentiments\n",
        "labels = ['postive', 'negative']\n",
        "counts = [healthcare_sentiment_counts[label] for label in labels]\n",
        "\n",
        "# Create pie chart\n",
        "plt.pie(counts, labels=labels,  autopct='%1.1f%%', colors=['green', 'red'])\n",
        "\n",
        "# Add title\n",
        "plt.title('Healthcare Sentiment Distribution')\n",
        "\n",
        "# Show plot\n",
        "plt.show()"
      ],
      "metadata": {
        "colab": {
          "base_uri": "https://localhost:8080/",
          "height": 428
        },
        "id": "IJAo9bhMQeQo",
        "outputId": "6c132f9e-9809-4750-bae2-c614f02badc7"
      },
      "execution_count": 120,
      "outputs": [
        {
          "output_type": "display_data",
          "data": {
            "text/plain": [
              "<Figure size 640x480 with 1 Axes>"
            ],
            "image/png": "[encoded data removed]"
          },
          "metadata": {}
        }
      ]
    },
    {
      "cell_type": "markdown",
      "source": [
        "# Predicting Travel"
      ],
      "metadata": {
        "id": "-8yrq1iGP8uD"
      }
    },
    {
      "cell_type": "code",
      "source": [
        "# Choose a specific sheet\n",
        "selected_sheet = 'Travel'\n",
        "\n",
        "# Saving the data in a dataframe\n",
        "travel_speech = excel_file.parse(selected_sheet)\n",
        "\n",
        "travel_speech_vec = vec.transform(travel_speech['sentence'].values)\n",
        "\n",
        "# Predict using the trained Random Forest classifier\n",
        "travel_pred = RF_model.predict(travel_speech_vec)"
      ],
      "metadata": {
        "id": "DcxKYbxLRMDg"
      },
      "execution_count": 121,
      "outputs": []
    },
    {
      "cell_type": "markdown",
      "source": [
        "Counting the results"
      ],
      "metadata": {
        "id": "T8CLjJq_d9VV"
      }
    },
    {
      "cell_type": "code",
      "source": [
        "# Initialize counts for each sentiment\n",
        "travel_sentiment_counts = {'postive': 0, 'negative': 0, 'neutral': 0}\n",
        "\n",
        "# Count occurrences of each sentiment\n",
        "for sentiment in travel_pred:\n",
        "    travel_sentiment_counts[sentiment] += 1\n",
        "\n",
        "# Print the counts\n",
        "print(\"Number of positives:\", travel_sentiment_counts['postive'])\n",
        "print(\"Number of negatives:\", travel_sentiment_counts['negative'])\n",
        "print(\"Number of neutrals:\", travel_sentiment_counts['neutral'])"
      ],
      "metadata": {
        "colab": {
          "base_uri": "https://localhost:8080/"
        },
        "id": "TpmyLIBtRL82",
        "outputId": "8c54ac22-c9f6-4609-d34b-a165928db2dc"
      },
      "execution_count": 122,
      "outputs": [
        {
          "output_type": "stream",
          "name": "stdout",
          "text": [
            "Number of positives: 43\n",
            "Number of negatives: 21\n",
            "Number of neutrals: 65\n"
          ]
        }
      ]
    },
    {
      "cell_type": "markdown",
      "source": [
        "Visualising on pie chart"
      ],
      "metadata": {
        "id": "QxzDX3did8d9"
      }
    },
    {
      "cell_type": "code",
      "source": [
        "# Extract sentiments and counts for only positive and negative sentiments\n",
        "labels = ['postive', 'negative']\n",
        "counts = [travel_sentiment_counts[label] for label in labels]\n",
        "\n",
        "# Create pie chart\n",
        "plt.pie(counts, labels=labels,  autopct='%1.1f%%', colors=['green', 'red'])\n",
        "\n",
        "# Add title\n",
        "plt.title('Travel Sentiment Distribution')\n",
        "\n",
        "# Show plot\n",
        "plt.show()"
      ],
      "metadata": {
        "colab": {
          "base_uri": "https://localhost:8080/",
          "height": 428
        },
        "id": "exMXTWoVRLy_",
        "outputId": "6c2bbd71-2ecf-470b-94fe-496021dd215e"
      },
      "execution_count": 123,
      "outputs": [
        {
          "output_type": "display_data",
          "data": {
            "text/plain": [
              "<Figure size 640x480 with 1 Axes>"
            ],
            "image/png": "[encoded data removed]"
          },
          "metadata": {}
        }
      ]
    }
  ]
}