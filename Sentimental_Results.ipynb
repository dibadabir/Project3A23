{
  "nbformat": 4,
  "nbformat_minor": 0,
  "metadata": {
    "colab": {
      "provenance": [],
      "mount_file_id": "11WrpAQ4TBmOmxkiBujb-PzD_-fBu5KVV",
      "authorship_tag": "ABX9TyP6SvcBK27HkGOscuRQlEap",
      "include_colab_link": true
    },
    "kernelspec": {
      "name": "python3",
      "display_name": "Python 3"
    },
    "language_info": {
      "name": "python"
    }
  },
  "cells": [
    {
      "cell_type": "markdown",
      "metadata": {
        "id": "view-in-github",
        "colab_type": "text"
      },
      "source": [
        "<a href=\"https://colab.research.google.com/github/dibadabir/Project3A23/blob/main/Sentimental_Results.ipynb\" target=\"_parent\"><img src=\"https://colab.research.google.com/assets/colab-badge.svg\" alt=\"Open In Colab\"/></a>"
      ]
    },
    {
      "cell_type": "markdown",
      "source": [
        "# Installing libraries"
      ],
      "metadata": {
        "id": "XffWjm7WA-fO"
      }
    },
    {
      "cell_type": "code",
      "execution_count": null,
      "metadata": {
        "id": "AjlouHsqAtXp"
      },
      "outputs": [],
      "source": [
        "# Regular expression module allows pattern matching and manipulation of strings\n",
        "import re\n",
        "# Making dataframe\n",
        "import pandas as pd\n",
        "# Saving data into numpy array\n",
        "import numpy as np\n",
        "# The natrual language processing to process sentences\n",
        "import nltk\n",
        "# Used to display they results on a bar chart (graph)\n",
        "import matplotlib.pyplot as plt\n",
        "# Encoding categorical features\n",
        "from sklearn.preprocessing import LabelEncoder\n",
        "# Splitting our dataset into train and test\n",
        "from sklearn.model_selection import train_test_split\n",
        "# Get the report from evaluating models\n",
        "from sklearn.metrics import classification_report, accuracy_score\n",
        "# Converting text data into numerical vectors so that the machine can read it\n",
        "from sklearn.feature_extraction.text import TfidfVectorizer\n",
        "# Saving and loading the model\n",
        "import pickle"
      ]
    },
    {
      "cell_type": "markdown",
      "source": [
        "# Loading the dataset"
      ],
      "metadata": {
        "id": "fPdmSdIpBFc1"
      }
    },
    {
      "cell_type": "code",
      "source": [
        "# Load the data from excel file\n",
        "data = pd.read_excel('/content/Training Dataset.xlsx')\n",
        "\n",
        "# Extract sentences and labels\n",
        "sentences = data['sentence'].values\n",
        "labels = data['sentiment'].values\n",
        "\n",
        "# Split the data into training and testing sets (80% for training, 20% for testing)\n",
        "train_sentences, test_sentences, train_labels, test_labels = train_test_split(sentences, labels, shuffle=True, test_size=0.2, random_state=230)\n",
        "\n",
        "# Vectorize the text data using TfidfVectorizer\n",
        "vec = TfidfVectorizer()                                         # Vectorizing the text\n",
        "train_sentences_vectors = vec.fit_transform(train_sentences)    # Feed the training dataset to our model\n",
        "test_sentences_vectors = vec.transform(test_sentences)          # Transform the test data so that the machine can perform the analysis"
      ],
      "metadata": {
        "id": "xGX0LKNIA9lH"
      },
      "execution_count": null,
      "outputs": []
    },
    {
      "cell_type": "markdown",
      "source": [
        "# Random Forest Model"
      ],
      "metadata": {
        "id": "w7aQ8SFtCKTD"
      }
    },
    {
      "cell_type": "code",
      "source": [
        "from sklearn.ensemble import RandomForestClassifier  # Import RandomForestClassifier\n",
        "\n",
        "# Initialize and train the Random Forest classifier\n",
        "clf_rf = RandomForestClassifier()  # Initialize RandomForestClassifier\n",
        "clf_rf.fit(train_sentences_vectors, train_labels)  # Fit the classifier on the training data\n",
        "\n",
        "# Predict using the trained Random Forest classifier\n",
        "clf_rf_pred = clf_rf.predict(test_sentences_vectors)\n",
        "\n",
        "# Evaluate the model using accuracy_score and Classification_report functions\n",
        "print(\"Random Forest Accuracy:\", accuracy_score(test_labels, clf_rf_pred))\n"
      ],
      "metadata": {
        "colab": {
          "base_uri": "https://localhost:8080/"
        },
        "id": "Bhfh8f_tCPes",
        "outputId": "28d2e260-9d94-4135-da94-9cb8af91bb61"
      },
      "execution_count": null,
      "outputs": [
        {
          "output_type": "stream",
          "name": "stdout",
          "text": [
            "Random Forest Accuracy: 0.6347517730496454\n"
          ]
        }
      ]
    },
    {
      "cell_type": "markdown",
      "source": [
        "# Save the model"
      ],
      "metadata": {
        "id": "3M3AUTLVDwgz"
      }
    },
    {
      "cell_type": "code",
      "source": [
        "# Save model to a file\n",
        "model_save_path = '/content/RandomForest_model.pkl'\n",
        "with open(model_save_path, 'wb') as f:\n",
        "  pickle.dump(clf_rf, f)\n",
        "\n",
        "print(f'Random Forest model saved to {model_save_path}')"
      ],
      "metadata": {
        "colab": {
          "base_uri": "https://localhost:8080/"
        },
        "id": "rh3VjMvwCqZX",
        "outputId": "e018fbb9-ae6f-4003-c6c8-1e8997d4881f"
      },
      "execution_count": null,
      "outputs": [
        {
          "output_type": "stream",
          "name": "stdout",
          "text": [
            "Random Forest model saved to /content/RandomForest_model.pkl\n"
          ]
        }
      ]
    },
    {
      "cell_type": "markdown",
      "source": [
        "# Loading the Model"
      ],
      "metadata": {
        "id": "bb9CSjPdEjax"
      }
    },
    {
      "cell_type": "code",
      "source": [
        "# Load the model\n",
        "model_load_path = '/content/RandomForest_model.pkl'\n",
        "with open(model_save_path, 'rb') as f:\n",
        "  RF_model = pickle.load(f)"
      ],
      "metadata": {
        "id": "BUH8x-6UEmGt"
      },
      "execution_count": null,
      "outputs": []
    },
    {
      "cell_type": "markdown",
      "source": [
        "# Load the Unknown Data"
      ],
      "metadata": {
        "id": "X8q4Cr5nFD2h"
      }
    },
    {
      "cell_type": "code",
      "source": [
        "# Load the Excel file\n",
        "excel_file = pd.ExcelFile('/content/Speech to Text (Combined, no number, CLEANED) - Vader.xlsx')\n",
        "\n",
        "# List all sheet names\n",
        "sheet_names = excel_file.sheet_names\n",
        "\n",
        "print('Sheet names from the file:\\n')\n",
        "for i in sheet_names:\n",
        "  print(i)"
      ],
      "metadata": {
        "colab": {
          "base_uri": "https://localhost:8080/"
        },
        "id": "b3IXTtJKFDR6",
        "outputId": "cde70f07-844a-484a-aad4-c78e4f816f03"
      },
      "execution_count": null,
      "outputs": [
        {
          "output_type": "stream",
          "name": "stdout",
          "text": [
            "Sheet names from the file:\n",
            "\n",
            "Combined\n",
            "E-Commerce\n",
            "Education\n",
            "Fashion\n",
            "GenAI\n",
            "Healthcare\n",
            "Travel\n"
          ]
        }
      ]
    },
    {
      "cell_type": "markdown",
      "source": [
        "# Function to visualise the results"
      ],
      "metadata": {
        "id": "yeZy9M5oztH0"
      }
    },
    {
      "cell_type": "code",
      "source": [
        "def horizontal_bar(sentiment_count, category):\n",
        "    # Extract sentiments and counts for only positive and negative sentiments\n",
        "    labels = ['postive', 'negative']\n",
        "    counts = [sentiment_count[label] for label in labels]\n",
        "\n",
        "    # Calculate percentages\n",
        "    total = sum(counts)\n",
        "    percentages = [(count / total) * 100 for count in counts]\n",
        "\n",
        "    # Create a figure\n",
        "    plt.figure(figsize=(15, 1.5))  # Adjust the width and height as needed\n",
        "\n",
        "    # Create horizontal bar chart\n",
        "    plt.barh(labels, percentages, color=['green', 'red'], height=0.5)\n",
        "\n",
        "    # Add percentages labels\n",
        "    for i, percentage in enumerate(percentages):\n",
        "        plt.text(percentage + 0.5, i, f'{percentage:.1f}%', va='center')\n",
        "\n",
        "    # Display labels on the left\n",
        "    plt.gca().invert_yaxis()\n",
        "\n",
        "    # Add title and labels\n",
        "    plt.title(f'{category} Sentiment Distribution')\n",
        "    plt.xlabel('Percentage')\n",
        "    plt.ylabel('Sentiment')\n",
        "\n",
        "    plt.show()"
      ],
      "metadata": {
        "id": "DIPswILpzyOm"
      },
      "execution_count": null,
      "outputs": []
    },
    {
      "cell_type": "markdown",
      "source": [
        "# Predicting E-Commerce"
      ],
      "metadata": {
        "id": "Chy3G7EEKRZt"
      }
    },
    {
      "cell_type": "code",
      "source": [
        "# Choose a specific sheet\n",
        "selected_sheet = 'E-Commerce'\n",
        "\n",
        "# Saving the data in a dataframe\n",
        "ecommerce_speech = excel_file.parse(selected_sheet)\n",
        "\n",
        "ecommerce_speech_vec = vec.transform(ecommerce_speech['sentence'].values)\n",
        "\n",
        "# Predict using the trained model\n",
        "ecommerce_pred = RF_model.predict(ecommerce_speech_vec)"
      ],
      "metadata": {
        "id": "tdl7eMvsHDC3"
      },
      "execution_count": null,
      "outputs": []
    },
    {
      "cell_type": "markdown",
      "source": [
        "Counting the results"
      ],
      "metadata": {
        "id": "GMBFofSMdW4f"
      }
    },
    {
      "cell_type": "code",
      "source": [
        "# Initialize counts for each sentiment\n",
        "ecommerce_sentiment_counts = {'postive': 0, 'negative': 0, 'neutral': 0}\n",
        "\n",
        "# Count occurrences of each sentiment\n",
        "for sentiment in ecommerce_pred:\n",
        "    ecommerce_sentiment_counts[sentiment] += 1\n",
        "\n",
        "# Print the counts\n",
        "print(\"Number of positives:\", ecommerce_sentiment_counts['postive'])\n",
        "print(\"Number of negatives:\", ecommerce_sentiment_counts['negative'])\n",
        "print(\"Number of neutrals:\", ecommerce_sentiment_counts['neutral'])"
      ],
      "metadata": {
        "colab": {
          "base_uri": "https://localhost:8080/"
        },
        "id": "IlIMykF8Kkp6",
        "outputId": "f5b89481-b841-4cf2-d92a-696c30a0b359"
      },
      "execution_count": null,
      "outputs": [
        {
          "output_type": "stream",
          "name": "stdout",
          "text": [
            "Number of positives: 64\n",
            "Number of negatives: 24\n",
            "Number of neutrals: 114\n"
          ]
        }
      ]
    },
    {
      "cell_type": "markdown",
      "source": [
        "Visualising on bar chart"
      ],
      "metadata": {
        "id": "tzSoWdtOdZ3X"
      }
    },
    {
      "cell_type": "code",
      "source": [
        "horizontal_bar(ecommerce_sentiment_counts, 'E-Commerce')"
      ],
      "metadata": {
        "colab": {
          "base_uri": "https://localhost:8080/",
          "height": 195
        },
        "id": "7CxVAcr-LP-E",
        "outputId": "bcdfe220-d44d-42b4-f361-46fc56526844"
      },
      "execution_count": null,
      "outputs": [
        {
          "output_type": "display_data",
          "data": {
            "text/plain": [
              "<Figure size 1500x150 with 1 Axes>"
            ],
            "image/png": "[encoded data removed]"
          },
          "metadata": {}
        }
      ]
    },
    {
      "cell_type": "markdown",
      "source": [
        "# Predicting Education"
      ],
      "metadata": {
        "id": "iJvb6HqDLg3b"
      }
    },
    {
      "cell_type": "code",
      "source": [
        "# Choose a specific sheet\n",
        "selected_sheet = 'Education'\n",
        "\n",
        "# Saving the data in a dataframe\n",
        "education_speech = excel_file.parse(selected_sheet)\n",
        "\n",
        "education_speech_vec = vec.transform(education_speech['sentence'].values)\n",
        "\n",
        "# Predict using the trained model\n",
        "education_pred = RF_model.predict(education_speech_vec)"
      ],
      "metadata": {
        "id": "RPmf-2_XLned"
      },
      "execution_count": null,
      "outputs": []
    },
    {
      "cell_type": "markdown",
      "source": [
        "Counting the results"
      ],
      "metadata": {
        "id": "Omy4xo0-dmXY"
      }
    },
    {
      "cell_type": "code",
      "source": [
        "# Initialize counts for each sentiment\n",
        "education_sentiment_counts = {'postive': 0, 'negative': 0, 'neutral': 0}\n",
        "\n",
        "# Count occurrences of each sentiment\n",
        "for sentiment in education_pred:\n",
        "    education_sentiment_counts[sentiment] += 1\n",
        "\n",
        "# Print the counts\n",
        "print(\"Number of positives:\", education_sentiment_counts['postive'])\n",
        "print(\"Number of negatives:\", education_sentiment_counts['negative'])\n",
        "print(\"Number of neutrals:\", education_sentiment_counts['neutral'])"
      ],
      "metadata": {
        "colab": {
          "base_uri": "https://localhost:8080/"
        },
        "outputId": "22c97f41-029d-4e65-ee3d-67280cbd9d61",
        "id": "gHyWLpn-Ni1c"
      },
      "execution_count": null,
      "outputs": [
        {
          "output_type": "stream",
          "name": "stdout",
          "text": [
            "Number of positives: 56\n",
            "Number of negatives: 23\n",
            "Number of neutrals: 155\n"
          ]
        }
      ]
    },
    {
      "cell_type": "markdown",
      "source": [
        "Visualising on bar chart"
      ],
      "metadata": {
        "id": "y-y2eFitdosR"
      }
    },
    {
      "cell_type": "code",
      "source": [
        "horizontal_bar(education_sentiment_counts, 'Education')"
      ],
      "metadata": {
        "colab": {
          "base_uri": "https://localhost:8080/",
          "height": 195
        },
        "outputId": "71a18721-6356-4c07-c446-40c911621d65",
        "id": "LN9RRV_DNmSM"
      },
      "execution_count": null,
      "outputs": [
        {
          "output_type": "display_data",
          "data": {
            "text/plain": [
              "<Figure size 1500x150 with 1 Axes>"
            ],
            "image/png": "[encoded data removed]"
          },
          "metadata": {}
        }
      ]
    },
    {
      "cell_type": "markdown",
      "source": [
        "# Predicting Fashion"
      ],
      "metadata": {
        "id": "OZq0njSeOw6M"
      }
    },
    {
      "cell_type": "code",
      "source": [
        "# Choose a specific sheet\n",
        "selected_sheet = 'Fashion'\n",
        "\n",
        "# Saving the data in a dataframe\n",
        "fashion_speech = excel_file.parse(selected_sheet)\n",
        "\n",
        "fashion_speech_vec = vec.transform(fashion_speech['sentence'].values)\n",
        "\n",
        "# Predict using the trained model\n",
        "fashion_pred = RF_model.predict(fashion_speech_vec)"
      ],
      "metadata": {
        "id": "5kMgb1IzPAzh"
      },
      "execution_count": null,
      "outputs": []
    },
    {
      "cell_type": "markdown",
      "source": [
        "counting the reults"
      ],
      "metadata": {
        "id": "fCdTsUxSdud3"
      }
    },
    {
      "cell_type": "code",
      "source": [
        "# Initialize counts for each sentiment\n",
        "fashion_sentiment_counts = {'postive': 0, 'negative': 0, 'neutral': 0}\n",
        "\n",
        "# Count occurrences of each sentiment\n",
        "for sentiment in fashion_pred:\n",
        "    fashion_sentiment_counts[sentiment] += 1\n",
        "\n",
        "# Print the counts\n",
        "print(\"Number of positives:\", fashion_sentiment_counts['postive'])\n",
        "print(\"Number of negatives:\", fashion_sentiment_counts['negative'])\n",
        "print(\"Number of neutrals:\", fashion_sentiment_counts['neutral'])"
      ],
      "metadata": {
        "colab": {
          "base_uri": "https://localhost:8080/"
        },
        "id": "Ishnzbg4PAsi",
        "outputId": "6411580f-efc2-40ad-fd6b-f960bc0f3f91"
      },
      "execution_count": null,
      "outputs": [
        {
          "output_type": "stream",
          "name": "stdout",
          "text": [
            "Number of positives: 97\n",
            "Number of negatives: 27\n",
            "Number of neutrals: 273\n"
          ]
        }
      ]
    },
    {
      "cell_type": "markdown",
      "source": [
        "Visualising on bar chart"
      ],
      "metadata": {
        "id": "mJqG65I-dyNm"
      }
    },
    {
      "cell_type": "code",
      "source": [
        "horizontal_bar(fashion_sentiment_counts, 'Fashion')"
      ],
      "metadata": {
        "colab": {
          "base_uri": "https://localhost:8080/",
          "height": 195
        },
        "id": "upCiiT5JPAgS",
        "outputId": "7bc0803e-78a3-4aa7-cc12-c7dcadc21072"
      },
      "execution_count": null,
      "outputs": [
        {
          "output_type": "display_data",
          "data": {
            "text/plain": [
              "<Figure size 1500x150 with 1 Axes>"
            ],
            "image/png": "[encoded data removed]"
          },
          "metadata": {}
        }
      ]
    },
    {
      "cell_type": "markdown",
      "source": [
        "# Predicting Generative AI"
      ],
      "metadata": {
        "id": "EYXPY5WgP1-0"
      }
    },
    {
      "cell_type": "code",
      "source": [
        "# Choose a specific sheet\n",
        "selected_sheet = 'GenAI'\n",
        "\n",
        "# Saving the data in a dataframe\n",
        "genai_speech = excel_file.parse(selected_sheet)\n",
        "\n",
        "genai_speech_vec = vec.transform(genai_speech['sentence'].values)\n",
        "\n",
        "# Predict using the trained model\n",
        "genai_pred = RF_model.predict(genai_speech_vec)"
      ],
      "metadata": {
        "id": "jcGIghgAQDbS"
      },
      "execution_count": null,
      "outputs": []
    },
    {
      "cell_type": "markdown",
      "source": [
        "Counting the results"
      ],
      "metadata": {
        "id": "aPC7DJ2Sd3Hs"
      }
    },
    {
      "cell_type": "code",
      "source": [
        "# Initialize counts for each sentiment\n",
        "genai_sentiment_counts = {'postive': 0, 'negative': 0, 'neutral': 0}\n",
        "\n",
        "# Count occurrences of each sentiment\n",
        "for sentiment in genai_pred:\n",
        "    genai_sentiment_counts[sentiment] += 1\n",
        "\n",
        "# Print the counts\n",
        "print(\"Number of positives:\", genai_sentiment_counts['postive'])\n",
        "print(\"Number of negatives:\", genai_sentiment_counts['negative'])\n",
        "print(\"Number of neutrals:\", genai_sentiment_counts['neutral'])"
      ],
      "metadata": {
        "colab": {
          "base_uri": "https://localhost:8080/"
        },
        "id": "K-CesmKAQDUz",
        "outputId": "085ec31a-0595-4abc-de9d-765e82939fed"
      },
      "execution_count": null,
      "outputs": [
        {
          "output_type": "stream",
          "name": "stdout",
          "text": [
            "Number of positives: 108\n",
            "Number of negatives: 48\n",
            "Number of neutrals: 179\n"
          ]
        }
      ]
    },
    {
      "cell_type": "markdown",
      "source": [
        "Visualising on bar chart"
      ],
      "metadata": {
        "id": "HAqvh4dxd2L_"
      }
    },
    {
      "cell_type": "code",
      "source": [
        "horizontal_bar(genai_sentiment_counts, 'Generative AI')"
      ],
      "metadata": {
        "colab": {
          "base_uri": "https://localhost:8080/",
          "height": 195
        },
        "id": "3PMdxQJRQDNC",
        "outputId": "71a9cde6-86b3-4c9e-f275-f73aa6ed331d"
      },
      "execution_count": null,
      "outputs": [
        {
          "output_type": "display_data",
          "data": {
            "text/plain": [
              "<Figure size 1500x150 with 1 Axes>"
            ],
            "image/png": "[encoded data removed]"
          },
          "metadata": {}
        }
      ]
    },
    {
      "cell_type": "markdown",
      "source": [
        "# Predicting Healthcare"
      ],
      "metadata": {
        "id": "ZdkNR0iRP6Cz"
      }
    },
    {
      "cell_type": "code",
      "source": [
        "# Choose a specific sheet\n",
        "selected_sheet = 'Healthcare'\n",
        "\n",
        "# Saving the data in a dataframe\n",
        "healthcare_speech = excel_file.parse(selected_sheet)\n",
        "\n",
        "healthcare_speech_vec = vec.transform(healthcare_speech['sentence'].values)\n",
        "\n",
        "# Predict using the trained model\n",
        "healthcare_pred = RF_model.predict(healthcare_speech_vec)"
      ],
      "metadata": {
        "id": "26C5BeiIQecR"
      },
      "execution_count": null,
      "outputs": []
    },
    {
      "cell_type": "markdown",
      "source": [
        "Counting the results"
      ],
      "metadata": {
        "id": "gPl8PIV7d5ed"
      }
    },
    {
      "cell_type": "code",
      "source": [
        "# Initialize counts for each sentiment\n",
        "healthcare_sentiment_counts = {'postive': 0, 'negative': 0, 'neutral': 0}\n",
        "\n",
        "# Count occurrences of each sentiment\n",
        "for sentiment in healthcare_pred:\n",
        "    healthcare_sentiment_counts[sentiment] += 1\n",
        "\n",
        "# Print the counts\n",
        "print(\"Number of positives:\", healthcare_sentiment_counts['postive'])\n",
        "print(\"Number of negatives:\", healthcare_sentiment_counts['negative'])\n",
        "print(\"Number of neutrals:\", healthcare_sentiment_counts['neutral'])"
      ],
      "metadata": {
        "colab": {
          "base_uri": "https://localhost:8080/"
        },
        "id": "o_gG7D5UQeXA",
        "outputId": "1914c465-4dd2-47b1-ab3b-d0e0d500fc23"
      },
      "execution_count": null,
      "outputs": [
        {
          "output_type": "stream",
          "name": "stdout",
          "text": [
            "Number of positives: 69\n",
            "Number of negatives: 44\n",
            "Number of neutrals: 80\n"
          ]
        }
      ]
    },
    {
      "cell_type": "markdown",
      "source": [
        "Visualising on bar chart"
      ],
      "metadata": {
        "id": "blybsie0d6Q9"
      }
    },
    {
      "cell_type": "code",
      "source": [
        "horizontal_bar(healthcare_sentiment_counts, 'Healthcare')"
      ],
      "metadata": {
        "colab": {
          "base_uri": "https://localhost:8080/",
          "height": 195
        },
        "id": "IJAo9bhMQeQo",
        "outputId": "458a6a6a-b38f-4e3e-a5ce-f8cbdb9b1175"
      },
      "execution_count": null,
      "outputs": [
        {
          "output_type": "display_data",
          "data": {
            "text/plain": [
              "<Figure size 1500x150 with 1 Axes>"
            ],
            "image/png": "[encoded data removed]"
          },
          "metadata": {}
        }
      ]
    },
    {
      "cell_type": "markdown",
      "source": [
        "# Predicting Travel"
      ],
      "metadata": {
        "id": "-8yrq1iGP8uD"
      }
    },
    {
      "cell_type": "code",
      "source": [
        "# Choose a specific sheet\n",
        "selected_sheet = 'Travel'\n",
        "\n",
        "# Saving the data in a dataframe\n",
        "travel_speech = excel_file.parse(selected_sheet)\n",
        "\n",
        "travel_speech_vec = vec.transform(travel_speech['sentence'].values)\n",
        "\n",
        "# Predict using the trained model\n",
        "travel_pred = RF_model.predict(travel_speech_vec)"
      ],
      "metadata": {
        "id": "DcxKYbxLRMDg"
      },
      "execution_count": null,
      "outputs": []
    },
    {
      "cell_type": "markdown",
      "source": [
        "Counting the results"
      ],
      "metadata": {
        "id": "T8CLjJq_d9VV"
      }
    },
    {
      "cell_type": "code",
      "source": [
        "# Initialize counts for each sentiment\n",
        "travel_sentiment_counts = {'postive': 0, 'negative': 0, 'neutral': 0}\n",
        "\n",
        "# Count occurrences of each sentiment\n",
        "for sentiment in travel_pred:\n",
        "    travel_sentiment_counts[sentiment] += 1\n",
        "\n",
        "# Print the counts\n",
        "print(\"Number of positives:\", travel_sentiment_counts['postive'])\n",
        "print(\"Number of negatives:\", travel_sentiment_counts['negative'])\n",
        "print(\"Number of neutrals:\", travel_sentiment_counts['neutral'])"
      ],
      "metadata": {
        "colab": {
          "base_uri": "https://localhost:8080/"
        },
        "id": "TpmyLIBtRL82",
        "outputId": "a070ac56-cf60-4aa4-db3c-5748921b8ee7"
      },
      "execution_count": null,
      "outputs": [
        {
          "output_type": "stream",
          "name": "stdout",
          "text": [
            "Number of positives: 35\n",
            "Number of negatives: 20\n",
            "Number of neutrals: 74\n"
          ]
        }
      ]
    },
    {
      "cell_type": "markdown",
      "source": [
        "Visualising on pie chart"
      ],
      "metadata": {
        "id": "QxzDX3did8d9"
      }
    },
    {
      "cell_type": "code",
      "source": [
        "horizontal_bar(travel_sentiment_counts, 'Travel')"
      ],
      "metadata": {
        "colab": {
          "base_uri": "https://localhost:8080/",
          "height": 195
        },
        "id": "exMXTWoVRLy_",
        "outputId": "0ed7b9f0-d6fb-4600-ffa3-42e264037283"
      },
      "execution_count": null,
      "outputs": [
        {
          "output_type": "display_data",
          "data": {
            "text/plain": [
              "<Figure size 1500x150 with 1 Axes>"
            ],
            "image/png": "[encoded data removed]"
          },
          "metadata": {}
        }
      ]
    }
  ]
}